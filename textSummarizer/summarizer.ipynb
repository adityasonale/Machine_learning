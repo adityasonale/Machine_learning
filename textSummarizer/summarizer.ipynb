{
 "cells": [
  {
   "cell_type": "code",
   "execution_count": 85,
   "metadata": {},
   "outputs": [],
   "source": [
    "import nltk\n",
    "import numpy as np \n",
    "from sklearn.feature_extraction.text import TfidfVectorizer\n",
    "import re\n",
    "from nltk.tokenize import sent_tokenize\n",
    "from nltk.corpus import stopwords\n",
    "from sklearn.metrics.pairwise import cosine_similarity"
   ]
  },
  {
   "cell_type": "markdown",
   "metadata": {},
   "source": [
    "Paragraph"
   ]
  },
  {
   "cell_type": "code",
   "execution_count": 86,
   "metadata": {},
   "outputs": [],
   "source": [
    "paragraph_test = \"\"\"Pollution is the introduction of contaminants into the natural environment that cause adverse change.\n",
    "               [1] Pollution can take the form of any substance (solid, liquid, or gas) or energy (such as radioactivity, heat, sound, or light).\n",
    "               Pollutants, the components of pollution, can be either foreign substances/energies or naturally occurring contaminants.\n",
    "Although environmental pollution can be caused by natural events, the word pollution generally implies that the contaminants\n",
    "have an anthropogenic source – that is, a source created by human activities, such as manufacturing, extractive industries,poor waste management, transportation or agriculture. Pollution is often classed as point source (coming from a highly concentrated specific site,such as a factory or mine) or nonpoint source pollution (coming from a widespread distributed sources, such as microplastics or agricultural runoff).\n",
    "Many sources of pollution were unregulated parts of industrialization during the 19th and 20th centuries until the emergence of environmental regulation and pollution policy in the later half of the 20th century. Sites where historically polluting industries released persistent pollutants may have legacy pollution long after the source of the pollution is stopped. Major forms of pollution include air pollution, light pollution, litter, noise pollution, plastic pollution, soil contamination, radioactive contamination, thermal pollution, visual pollution, and water pollution.\n",
    "\"\"\""
   ]
  },
  {
   "cell_type": "code",
   "execution_count": 87,
   "metadata": {},
   "outputs": [],
   "source": [
    "paragraph = input(\"Enter Paragraph :: \")"
   ]
  },
  {
   "cell_type": "markdown",
   "metadata": {},
   "source": [
    "Sentence Tokenization"
   ]
  },
  {
   "cell_type": "code",
   "execution_count": 88,
   "metadata": {},
   "outputs": [],
   "source": [
    "sentences = nltk.sent_tokenize(paragraph)"
   ]
  },
  {
   "cell_type": "code",
   "execution_count": 89,
   "metadata": {},
   "outputs": [
    {
     "name": "stdout",
     "output_type": "stream",
     "text": [
      "Although environmental pollution can be caused by natural events, the word pollution generally implies that the contaminants have an anthropogenic source – that is, a source created by human activities, such as manufacturing, extractive industries, poor waste management, transportation or agriculture.\n",
      "Pollution is often classed as point source (coming from a highly concentrated specific site, such as a factory or mine) or nonpoint source pollution (coming from a widespread distributed sources, such as microplastics or agricultural runoff).\n",
      "Many sources of pollution were unregulated parts of industrialization during the 19th and 20th centuries until the emergence of environmental regulation and pollution policy in the later half of the 20th century.\n",
      "Sites where historically polluting industries released persistent pollutants may have legacy pollution long after the source of the pollution is stopped.\n",
      "Major forms of pollution include air pollution, light pollution, litter, noise pollution, plastic pollution, soil contamination, radioactive contamination, thermal pollution, visual pollution, and water pollution.\n",
      "Pollution has widespread consequences on human and environmental health, having systematic impact on social and economic systems.\n",
      "In 2019, pollution killed nine million people worldwide (one in six deaths), a number unchanged since 2015.\n",
      "[2][3][4] Air pollution accounted for 3⁄4 of these earlier deaths.\n",
      "[5][6] A 2022 literature review found that levels of anthropogenic chemical pollution have exceeded planetary boundaries and now threaten entire ecosystems around the world.\n",
      "[7][8] Pollutants frequently have outsized impacts on vulnerable populations, such as children and the elderly, and marginalized communities, because polluting industries and toxic waste sites tend to be collocated with populations with less economic and political power.\n",
      "[9] This outsized impact is a core reason for the formation of the environmental justice movement,[10][11] and continues to be a core element of environmental conflicts, particularly in the Global South.\n",
      "Because of the impacts of these chemicals, local, country and international policy have increasingly sought to regulate pollutants, resulting in increasing air and water quality standards, alongside regulation of specific waste streams.\n",
      "Regional and national policy is typically supervised by environmental agencies or ministries, while international efforts are coordinated by the UN Environmental Program and other treaty bodies.\n",
      "Pollution mitigation is an important part of all of the Sustainable Development Goals.\n",
      "[12]  Definitions and types\n"
     ]
    }
   ],
   "source": [
    "for sentence in sentences:\n",
    "    print(sentence)"
   ]
  },
  {
   "cell_type": "markdown",
   "metadata": {},
   "source": [
    "Approach 1 : Removing Stopwords"
   ]
  },
  {
   "cell_type": "code",
   "execution_count": 90,
   "metadata": {},
   "outputs": [],
   "source": [
    "def preprocess1(text):\n",
    "    text = re.sub('[^a-zA-Z]',' ',text)\n",
    "    text = text.lower()\n",
    "    text = text.split()\n",
    "    text = [word for word in text if word not in set(stopwords.words('english'))]\n",
    "    text = \" \".join(text)\n",
    "    return text\n"
   ]
  },
  {
   "cell_type": "code",
   "execution_count": 91,
   "metadata": {},
   "outputs": [
    {
     "name": "stdout",
     "output_type": "stream",
     "text": [
      "pollution take form substance solid liquid gas energy radioactivity heat sound light\n"
     ]
    }
   ],
   "source": [
    "text = preprocess1(\"[1] Pollution can take the form of any substance (solid, liquid, or gas) or energy (such as radioactivity, heat, sound, or light).\")\n",
    "print(text)"
   ]
  },
  {
   "cell_type": "code",
   "execution_count": 92,
   "metadata": {},
   "outputs": [],
   "source": [
    "preprocessed_sentences = []\n",
    "for sent in sentences:\n",
    "    sent = preprocess1(sent)\n",
    "    preprocessed_sentences.append(sent)"
   ]
  },
  {
   "cell_type": "code",
   "execution_count": 93,
   "metadata": {},
   "outputs": [
    {
     "name": "stdout",
     "output_type": "stream",
     "text": [
      "although environmental pollution caused natural events word pollution generally implies contaminants anthropogenic source source created human activities manufacturing extractive industries poor waste management transportation agriculture\n",
      "pollution often classed point source coming highly concentrated specific site factory mine nonpoint source pollution coming widespread distributed sources microplastics agricultural runoff\n",
      "many sources pollution unregulated parts industrialization th th centuries emergence environmental regulation pollution policy later half th century\n",
      "sites historically polluting industries released persistent pollutants may legacy pollution long source pollution stopped\n",
      "major forms pollution include air pollution light pollution litter noise pollution plastic pollution soil contamination radioactive contamination thermal pollution visual pollution water pollution\n",
      "pollution widespread consequences human environmental health systematic impact social economic systems\n",
      "pollution killed nine million people worldwide one six deaths number unchanged since\n",
      "air pollution accounted earlier deaths\n",
      "literature review found levels anthropogenic chemical pollution exceeded planetary boundaries threaten entire ecosystems around world\n",
      "pollutants frequently outsized impacts vulnerable populations children elderly marginalized communities polluting industries toxic waste sites tend collocated populations less economic political power\n",
      "outsized impact core reason formation environmental justice movement continues core element environmental conflicts particularly global south\n",
      "impacts chemicals local country international policy increasingly sought regulate pollutants resulting increasing air water quality standards alongside regulation specific waste streams\n",
      "regional national policy typically supervised environmental agencies ministries international efforts coordinated un environmental program treaty bodies\n",
      "pollution mitigation important part sustainable development goals\n",
      "definitions types\n"
     ]
    }
   ],
   "source": [
    "for i in preprocessed_sentences:\n",
    "    print(i)"
   ]
  },
  {
   "cell_type": "code",
   "execution_count": 94,
   "metadata": {},
   "outputs": [
    {
     "name": "stdout",
     "output_type": "stream",
     "text": [
      "238\n",
      "188\n",
      "148\n",
      "121\n",
      "196\n",
      "102\n",
      "84\n",
      "38\n",
      "133\n",
      "200\n",
      "141\n",
      "185\n",
      "152\n",
      "65\n",
      "17\n"
     ]
    }
   ],
   "source": [
    "for i in preprocessed_sentences:\n",
    "    print(len(i))"
   ]
  },
  {
   "cell_type": "markdown",
   "metadata": {},
   "source": [
    "Create an instance for Tf-idf Vectoriser"
   ]
  },
  {
   "cell_type": "code",
   "execution_count": 95,
   "metadata": {},
   "outputs": [],
   "source": [
    "vectoriser = TfidfVectorizer()"
   ]
  },
  {
   "cell_type": "code",
   "execution_count": 96,
   "metadata": {},
   "outputs": [],
   "source": [
    "tfidf_matrix = vectoriser.fit_transform(preprocessed_sentences)"
   ]
  },
  {
   "cell_type": "code",
   "execution_count": 97,
   "metadata": {},
   "outputs": [
    {
     "data": {
      "text/plain": [
       "(15, 168)"
      ]
     },
     "execution_count": 97,
     "metadata": {},
     "output_type": "execute_result"
    }
   ],
   "source": [
    "tfidf_matrix_dense = tfidf_matrix.toarray()\n",
    "last_sentence_vector = tfidf_matrix_dense[-1].reshape(1,-1)\n",
    "tfidf_matrix_dense.shape"
   ]
  },
  {
   "cell_type": "code",
   "execution_count": 98,
   "metadata": {},
   "outputs": [
    {
     "ename": "ValueError",
     "evalue": "invalid literal for int() with base 10: ''",
     "output_type": "error",
     "traceback": [
      "\u001b[1;31m---------------------------------------------------------------------------\u001b[0m",
      "\u001b[1;31mValueError\u001b[0m                                Traceback (most recent call last)",
      "Cell \u001b[1;32mIn[98], line 4\u001b[0m\n\u001b[0;32m      2\u001b[0m sentence_scores \u001b[39m=\u001b[39m \u001b[39mlist\u001b[39m(\u001b[39mzip\u001b[39m(preprocessed_sentences[:\u001b[39m-\u001b[39m\u001b[39m1\u001b[39m], summary_sentences))\n\u001b[0;32m      3\u001b[0m sorted_sentences \u001b[39m=\u001b[39m \u001b[39msorted\u001b[39m(sentence_scores, key\u001b[39m=\u001b[39m\u001b[39mlambda\u001b[39;00m x: x[\u001b[39m1\u001b[39m], reverse\u001b[39m=\u001b[39m\u001b[39mTrue\u001b[39;00m)\n\u001b[1;32m----> 4\u001b[0m lines \u001b[39m=\u001b[39m \u001b[39mint\u001b[39;49m(\u001b[39minput\u001b[39;49m(\u001b[39m\"\u001b[39;49m\u001b[39mEnter the number of line for the summary : \u001b[39;49m\u001b[39m\"\u001b[39;49m))\n\u001b[0;32m      5\u001b[0m \u001b[39mfor\u001b[39;00m i \u001b[39min\u001b[39;00m \u001b[39mrange\u001b[39m(lines):\n\u001b[0;32m      6\u001b[0m     \u001b[39mprint\u001b[39m(sorted_sentences[i][\u001b[39m0\u001b[39m])\n",
      "\u001b[1;31mValueError\u001b[0m: invalid literal for int() with base 10: ''"
     ]
    }
   ],
   "source": [
    "summary_sentences = cosine_similarity(last_sentence_vector, tfidf_matrix_dense[:-1])[0]\n",
    "sentence_scores = list(zip(preprocessed_sentences[:-1], summary_sentences))\n",
    "sorted_sentences = sorted(sentence_scores, key=lambda x: x[1], reverse=True)\n",
    "lines = int(input(\"Enter the number of line for the summary : \"))\n",
    "for i in range(lines):\n",
    "    print(sorted_sentences[i][0])"
   ]
  }
 ],
 "metadata": {
  "kernelspec": {
   "display_name": "Python 3",
   "language": "python",
   "name": "python3"
  },
  "language_info": {
   "codemirror_mode": {
    "name": "ipython",
    "version": 3
   },
   "file_extension": ".py",
   "mimetype": "text/x-python",
   "name": "python",
   "nbconvert_exporter": "python",
   "pygments_lexer": "ipython3",
   "version": "3.11.2"
  },
  "orig_nbformat": 4
 },
 "nbformat": 4,
 "nbformat_minor": 2
}
