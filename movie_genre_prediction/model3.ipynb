{
 "cells": [
  {
   "cell_type": "markdown",
   "metadata": {},
   "source": [
    "Performing multilabel classification"
   ]
  },
  {
   "cell_type": "code",
   "execution_count": 36,
   "metadata": {},
   "outputs": [],
   "source": [
    "import numpy as np\n",
    "import pandas as pd\n",
    "\n",
    "from sklearn.model_selection import train_test_split\n",
    "\n",
    "from keras.layers import Dense,Embedding,LSTM,Input\n",
    "from keras.models import Model,Sequential\n",
    "from keras.preprocessing.text import Tokenizer\n",
    "from keras.preprocessing.sequence import pad_sequences\n",
    "\n",
    "from nltk.tokenize import word_tokenize"
   ]
  },
  {
   "cell_type": "code",
   "execution_count": 37,
   "metadata": {},
   "outputs": [],
   "source": [
    "dataset = pd.read_csv(\"D:\\Datasets\\movies_genre_1.csv\")\n",
    "\n",
    "x = dataset['title_overview'].values\n",
    "y = dataset.iloc[:,2:].values"
   ]
  },
  {
   "cell_type": "code",
   "execution_count": 38,
   "metadata": {},
   "outputs": [
    {
     "data": {
      "text/html": [
       "<div>\n",
       "<style scoped>\n",
       "    .dataframe tbody tr th:only-of-type {\n",
       "        vertical-align: middle;\n",
       "    }\n",
       "\n",
       "    .dataframe tbody tr th {\n",
       "        vertical-align: top;\n",
       "    }\n",
       "\n",
       "    .dataframe thead th {\n",
       "        text-align: right;\n",
       "    }\n",
       "</style>\n",
       "<table border=\"1\" class=\"dataframe\">\n",
       "  <thead>\n",
       "    <tr style=\"text-align: right;\">\n",
       "      <th></th>\n",
       "      <th>Unnamed: 0</th>\n",
       "      <th>title_overview</th>\n",
       "      <th>Western</th>\n",
       "      <th>Romance</th>\n",
       "      <th>Horror</th>\n",
       "      <th>TV Movie</th>\n",
       "      <th>Fantasy</th>\n",
       "      <th>Drama</th>\n",
       "      <th>Science Fiction</th>\n",
       "      <th>War</th>\n",
       "      <th>Music</th>\n",
       "      <th>History</th>\n",
       "      <th>Thriller</th>\n",
       "      <th>Comedy</th>\n",
       "      <th>Crime</th>\n",
       "      <th>Mystery</th>\n",
       "      <th>Action</th>\n",
       "      <th>Animation</th>\n",
       "      <th>Family</th>\n",
       "      <th>Adventure</th>\n",
       "    </tr>\n",
       "  </thead>\n",
       "  <tbody>\n",
       "    <tr>\n",
       "      <th>0</th>\n",
       "      <td>0</td>\n",
       "      <td>the godfather spanning years chronicle fiction...</td>\n",
       "      <td>0</td>\n",
       "      <td>0</td>\n",
       "      <td>0</td>\n",
       "      <td>0</td>\n",
       "      <td>0</td>\n",
       "      <td>1</td>\n",
       "      <td>0</td>\n",
       "      <td>0</td>\n",
       "      <td>0</td>\n",
       "      <td>0</td>\n",
       "      <td>0</td>\n",
       "      <td>0</td>\n",
       "      <td>1</td>\n",
       "      <td>0</td>\n",
       "      <td>0</td>\n",
       "      <td>0</td>\n",
       "      <td>0</td>\n",
       "      <td>0</td>\n",
       "    </tr>\n",
       "    <tr>\n",
       "      <th>1</th>\n",
       "      <td>1</td>\n",
       "      <td>spider man across spider verse after reuniting...</td>\n",
       "      <td>0</td>\n",
       "      <td>0</td>\n",
       "      <td>0</td>\n",
       "      <td>0</td>\n",
       "      <td>0</td>\n",
       "      <td>0</td>\n",
       "      <td>1</td>\n",
       "      <td>0</td>\n",
       "      <td>0</td>\n",
       "      <td>0</td>\n",
       "      <td>0</td>\n",
       "      <td>0</td>\n",
       "      <td>0</td>\n",
       "      <td>0</td>\n",
       "      <td>1</td>\n",
       "      <td>1</td>\n",
       "      <td>0</td>\n",
       "      <td>1</td>\n",
       "    </tr>\n",
       "    <tr>\n",
       "      <th>2</th>\n",
       "      <td>2</td>\n",
       "      <td>the shawshank redemption framed double murder ...</td>\n",
       "      <td>0</td>\n",
       "      <td>0</td>\n",
       "      <td>0</td>\n",
       "      <td>0</td>\n",
       "      <td>0</td>\n",
       "      <td>1</td>\n",
       "      <td>0</td>\n",
       "      <td>0</td>\n",
       "      <td>0</td>\n",
       "      <td>0</td>\n",
       "      <td>0</td>\n",
       "      <td>0</td>\n",
       "      <td>1</td>\n",
       "      <td>0</td>\n",
       "      <td>0</td>\n",
       "      <td>0</td>\n",
       "      <td>0</td>\n",
       "      <td>0</td>\n",
       "    </tr>\n",
       "    <tr>\n",
       "      <th>3</th>\n",
       "      <td>3</td>\n",
       "      <td>the godfather part ii in continuing saga corle...</td>\n",
       "      <td>0</td>\n",
       "      <td>0</td>\n",
       "      <td>0</td>\n",
       "      <td>0</td>\n",
       "      <td>0</td>\n",
       "      <td>1</td>\n",
       "      <td>0</td>\n",
       "      <td>0</td>\n",
       "      <td>0</td>\n",
       "      <td>0</td>\n",
       "      <td>0</td>\n",
       "      <td>0</td>\n",
       "      <td>1</td>\n",
       "      <td>0</td>\n",
       "      <td>0</td>\n",
       "      <td>0</td>\n",
       "      <td>0</td>\n",
       "      <td>0</td>\n",
       "    </tr>\n",
       "    <tr>\n",
       "      <th>4</th>\n",
       "      <td>4</td>\n",
       "      <td>dilwale dulhania le jayenge raj rich carefree ...</td>\n",
       "      <td>0</td>\n",
       "      <td>1</td>\n",
       "      <td>0</td>\n",
       "      <td>0</td>\n",
       "      <td>0</td>\n",
       "      <td>1</td>\n",
       "      <td>0</td>\n",
       "      <td>0</td>\n",
       "      <td>0</td>\n",
       "      <td>0</td>\n",
       "      <td>0</td>\n",
       "      <td>1</td>\n",
       "      <td>0</td>\n",
       "      <td>0</td>\n",
       "      <td>0</td>\n",
       "      <td>0</td>\n",
       "      <td>0</td>\n",
       "      <td>0</td>\n",
       "    </tr>\n",
       "  </tbody>\n",
       "</table>\n",
       "</div>"
      ],
      "text/plain": [
       "   Unnamed: 0                                     title_overview  Western  \\\n",
       "0           0  the godfather spanning years chronicle fiction...        0   \n",
       "1           1  spider man across spider verse after reuniting...        0   \n",
       "2           2  the shawshank redemption framed double murder ...        0   \n",
       "3           3  the godfather part ii in continuing saga corle...        0   \n",
       "4           4  dilwale dulhania le jayenge raj rich carefree ...        0   \n",
       "\n",
       "   Romance  Horror  TV Movie  Fantasy  Drama  Science Fiction  War  Music  \\\n",
       "0        0       0         0        0      1                0    0      0   \n",
       "1        0       0         0        0      0                1    0      0   \n",
       "2        0       0         0        0      1                0    0      0   \n",
       "3        0       0         0        0      1                0    0      0   \n",
       "4        1       0         0        0      1                0    0      0   \n",
       "\n",
       "   History  Thriller  Comedy  Crime  Mystery  Action  Animation  Family  \\\n",
       "0        0         0       0      1        0       0          0       0   \n",
       "1        0         0       0      0        0       1          1       0   \n",
       "2        0         0       0      1        0       0          0       0   \n",
       "3        0         0       0      1        0       0          0       0   \n",
       "4        0         0       1      0        0       0          0       0   \n",
       "\n",
       "   Adventure  \n",
       "0          0  \n",
       "1          1  \n",
       "2          0  \n",
       "3          0  \n",
       "4          0  "
      ]
     },
     "execution_count": 38,
     "metadata": {},
     "output_type": "execute_result"
    }
   ],
   "source": [
    "dataset.head()"
   ]
  },
  {
   "cell_type": "code",
   "execution_count": 39,
   "metadata": {},
   "outputs": [
    {
     "data": {
      "text/plain": [
       "Index(['Unnamed: 0', 'title_overview', 'Western', 'Romance', 'Horror',\n",
       "       'TV Movie', 'Fantasy', 'Drama', 'Science Fiction', 'War', 'Music',\n",
       "       'History', 'Thriller', 'Comedy', 'Crime', 'Mystery', 'Action',\n",
       "       'Animation', 'Family', 'Adventure'],\n",
       "      dtype='object')"
      ]
     },
     "execution_count": 39,
     "metadata": {},
     "output_type": "execute_result"
    }
   ],
   "source": [
    "dataset.columns"
   ]
  },
  {
   "cell_type": "code",
   "execution_count": 40,
   "metadata": {},
   "outputs": [],
   "source": [
    "X_new = []\n",
    "\n",
    "for sentence in x:\n",
    "    X_new.append(sentence)"
   ]
  },
  {
   "cell_type": "code",
   "execution_count": 41,
   "metadata": {},
   "outputs": [],
   "source": [
    "y_new = dataset[['Western', 'Romance', 'Horror','TV Movie', 'Fantasy', 'Drama', 'Science Fiction', 'War', 'Music',\n",
    "       'History', 'Thriller', 'Comedy', 'Crime', 'Mystery', 'Action',\n",
    "       'Animation', 'Family', 'Adventure']]"
   ]
  },
  {
   "cell_type": "markdown",
   "metadata": {},
   "source": [
    "Size of Corpus"
   ]
  },
  {
   "cell_type": "code",
   "execution_count": 42,
   "metadata": {},
   "outputs": [
    {
     "data": {
      "text/plain": [
       "28391"
      ]
     },
     "execution_count": 42,
     "metadata": {},
     "output_type": "execute_result"
    }
   ],
   "source": [
    "corpus = [word_tokenize(sentence) for sentence in X_new]\n",
    "\n",
    "s = set()\n",
    "\n",
    "for i in corpus:\n",
    "    for j in i:\n",
    "        s.add(j)\n",
    "\n",
    "len(s)"
   ]
  },
  {
   "cell_type": "markdown",
   "metadata": {},
   "source": [
    "Tokenization"
   ]
  },
  {
   "cell_type": "code",
   "execution_count": 43,
   "metadata": {},
   "outputs": [],
   "source": [
    "tokenizer = Tokenizer(num_words=30000)\n",
    "tokenizer.fit_on_texts(X_new)\n",
    "\n",
    "X_train = tokenizer.texts_to_sequences(X_new)\n",
    "\n",
    "vocab_size = len(tokenizer.word_index) + 1\n",
    "\n",
    "max_sentence_length = max([len(x) for x in X_train])  # 113\n",
    "\n",
    "padded_sentences = pad_sequences(X_train,maxlen=120)"
   ]
  },
  {
   "cell_type": "code",
   "execution_count": 44,
   "metadata": {},
   "outputs": [],
   "source": [
    "x_train,x_test,y_train,y_test = train_test_split(padded_sentences,y_new,test_size=0.2,random_state=42)"
   ]
  },
  {
   "cell_type": "code",
   "execution_count": 45,
   "metadata": {},
   "outputs": [],
   "source": [
    "x_train = np.array(x_train)"
   ]
  },
  {
   "cell_type": "code",
   "execution_count": 46,
   "metadata": {},
   "outputs": [],
   "source": [
    "y1_train = y_train[\"Western\"].values\n",
    "y1_test = y_test[\"Western\"].values\n",
    "\n",
    "y2_train = y_train[\"Romance\"].values\n",
    "y2_test = y_test[\"Romance\"].values\n",
    "\n",
    "y3_train = y_train[\"Horror\"].values\n",
    "y3_test = y_test[\"Horror\"].values\n",
    "\n",
    "y4_train = y_train[\"TV Movie\"].values\n",
    "y4_test = y_test[\"TV Movie\"].values\n",
    "\n",
    "y5_train = y_train[\"Fantasy\"].values\n",
    "y5_test = y_test[\"Fantasy\"].values\n",
    "\n",
    "y6_train = y_train[\"Drama\"].values\n",
    "y6_test = y_test[\"Drama\"].values\n",
    "\n",
    "y7_train = y_train[\"Science Fiction\"].values\n",
    "y7_test = y_test[\"Science Fiction\"].values\n",
    "\n",
    "y8_train = y_train[\"War\"].values\n",
    "y8_test = y_test[\"War\"].values\n",
    "\n",
    "y9_train = y_train[\"Music\"].values\n",
    "y9_test = y_test[\"Music\"].values\n",
    "\n",
    "y10_train = y_train[\"History\"].values\n",
    "y10_test = y_test[\"History\"].values\n",
    "\n",
    "y11_train = y_train[\"Thriller\"].values\n",
    "y11_test = y_test[\"Thriller\"].values\n",
    "\n",
    "y12_train = y_train[\"Comedy\"].values\n",
    "y12_test = y_test[\"Comedy\"].values\n",
    "\n",
    "y13_train = y_train[\"Crime\"].values\n",
    "y13_test = y_test[\"Crime\"].values\n",
    "\n",
    "y14_train = y_train[\"Mystery\"].values\n",
    "y14_test = y_test[\"Mystery\"].values\n",
    "\n",
    "y15_train = y_train[\"Action\"].values\n",
    "y15_test = y_test[\"Action\"].values\n",
    "\n",
    "y16_train = y_train[\"Animation\"].values\n",
    "y16_test = y_test[\"Animation\"].values\n",
    "\n",
    "\n",
    "y17_train = y_train[\"Family\"].values\n",
    "y17_test = y_test[\"Family\"].values\n",
    "\n",
    "y18_train = y_train[\"Adventure\"].values\n",
    "y18_test = y_test[\"Adventure\"].values\n"
   ]
  },
  {
   "cell_type": "markdown",
   "metadata": {},
   "source": [
    "Creating a GeloVe embedding Dictionary"
   ]
  },
  {
   "cell_type": "code",
   "execution_count": 47,
   "metadata": {},
   "outputs": [],
   "source": [
    "file_path = r\"D:\\Datasets\\glove\\glove.6B.50d.txt\"\n",
    "\n",
    "embeddings_dictionary = dict()\n",
    "\n",
    "file = open(file_path,encoding='utf8')\n",
    "\n",
    "for lines in file:\n",
    "    records = lines.split()\n",
    "    word = records[0]\n",
    "    vector_dimensions = np.asarray(records[1:], dtype='float32')\n",
    "    embeddings_dictionary[word] = vector_dimensions\n",
    "\n",
    "file.close()\n",
    "\n",
    "embedding_matrix = np.zeros((vocab_size,50))\n",
    "\n",
    "for word, index in tokenizer.word_index.items():\n",
    "    vector = embeddings_dictionary.get(word)\n",
    "    if vector is not None:\n",
    "        embedding_matrix[index] = vector\n",
    "    "
   ]
  },
  {
   "cell_type": "code",
   "execution_count": 48,
   "metadata": {},
   "outputs": [],
   "source": [
    "input_1 = Input(shape=(120,))\n",
    "embedding_layer = Embedding(vocab_size, 10)(input_1)\n",
    "LSTM_Layer1 = LSTM(128)(embedding_layer)\n",
    "\n",
    "output1 = Dense(1, activation='sigmoid')(LSTM_Layer1)\n",
    "output2 = Dense(1, activation='sigmoid')(LSTM_Layer1)\n",
    "output3 = Dense(1, activation='sigmoid')(LSTM_Layer1)\n",
    "output4 = Dense(1, activation='sigmoid')(LSTM_Layer1)\n",
    "output5 = Dense(1, activation='sigmoid')(LSTM_Layer1)\n",
    "output6 = Dense(1, activation='sigmoid')(LSTM_Layer1)\n",
    "output7 = Dense(1, activation='sigmoid')(LSTM_Layer1)\n",
    "output8 = Dense(1, activation='sigmoid')(LSTM_Layer1)\n",
    "output9 = Dense(1, activation='sigmoid')(LSTM_Layer1)\n",
    "output10 = Dense(1, activation='sigmoid')(LSTM_Layer1)\n",
    "output11 = Dense(1, activation='sigmoid')(LSTM_Layer1)\n",
    "output12 = Dense(1, activation='sigmoid')(LSTM_Layer1)\n",
    "output13 = Dense(1, activation='sigmoid')(LSTM_Layer1)\n",
    "output14 = Dense(1, activation='sigmoid')(LSTM_Layer1)\n",
    "output15 = Dense(1, activation='sigmoid')(LSTM_Layer1)\n",
    "output16 = Dense(1, activation='sigmoid')(LSTM_Layer1)\n",
    "output17 = Dense(1, activation='sigmoid')(LSTM_Layer1)\n",
    "output18 = Dense(1, activation='sigmoid')(LSTM_Layer1)\n",
    "\n",
    "model = Model(inputs=input_1, outputs=[output1, output2, output3, output4, output5, output6, output7, output8, output9, output10, output11, output12,output13,output14,output15,output16,output17,output18])\n",
    "model.compile(loss='binary_crossentropy', optimizer='adam', metrics=['acc'])"
   ]
  },
  {
   "cell_type": "code",
   "execution_count": 49,
   "metadata": {},
   "outputs": [
    {
     "name": "stdout",
     "output_type": "stream",
     "text": [
      "Model: \"model_2\"\n",
      "__________________________________________________________________________________________________\n",
      " Layer (type)                Output Shape                 Param #   Connected to                  \n",
      "==================================================================================================\n",
      " input_3 (InputLayer)        [(None, 120)]                0         []                            \n",
      "                                                                                                  \n",
      " embedding_2 (Embedding)     (None, 120, 10)              283940    ['input_3[0][0]']             \n",
      "                                                                                                  \n",
      " lstm_2 (LSTM)               (None, 128)                  71168     ['embedding_2[0][0]']         \n",
      "                                                                                                  \n",
      " dense_36 (Dense)            (None, 1)                    129       ['lstm_2[0][0]']              \n",
      "                                                                                                  \n",
      " dense_37 (Dense)            (None, 1)                    129       ['lstm_2[0][0]']              \n",
      "                                                                                                  \n",
      " dense_38 (Dense)            (None, 1)                    129       ['lstm_2[0][0]']              \n",
      "                                                                                                  \n",
      " dense_39 (Dense)            (None, 1)                    129       ['lstm_2[0][0]']              \n",
      "                                                                                                  \n",
      " dense_40 (Dense)            (None, 1)                    129       ['lstm_2[0][0]']              \n",
      "                                                                                                  \n",
      " dense_41 (Dense)            (None, 1)                    129       ['lstm_2[0][0]']              \n",
      "                                                                                                  \n",
      " dense_42 (Dense)            (None, 1)                    129       ['lstm_2[0][0]']              \n",
      "                                                                                                  \n",
      " dense_43 (Dense)            (None, 1)                    129       ['lstm_2[0][0]']              \n",
      "                                                                                                  \n",
      " dense_44 (Dense)            (None, 1)                    129       ['lstm_2[0][0]']              \n",
      "                                                                                                  \n",
      " dense_45 (Dense)            (None, 1)                    129       ['lstm_2[0][0]']              \n",
      "                                                                                                  \n",
      " dense_46 (Dense)            (None, 1)                    129       ['lstm_2[0][0]']              \n",
      "                                                                                                  \n",
      " dense_47 (Dense)            (None, 1)                    129       ['lstm_2[0][0]']              \n",
      "                                                                                                  \n",
      " dense_48 (Dense)            (None, 1)                    129       ['lstm_2[0][0]']              \n",
      "                                                                                                  \n",
      " dense_49 (Dense)            (None, 1)                    129       ['lstm_2[0][0]']              \n",
      "                                                                                                  \n",
      " dense_50 (Dense)            (None, 1)                    129       ['lstm_2[0][0]']              \n",
      "                                                                                                  \n",
      " dense_51 (Dense)            (None, 1)                    129       ['lstm_2[0][0]']              \n",
      "                                                                                                  \n",
      " dense_52 (Dense)            (None, 1)                    129       ['lstm_2[0][0]']              \n",
      "                                                                                                  \n",
      " dense_53 (Dense)            (None, 1)                    129       ['lstm_2[0][0]']              \n",
      "                                                                                                  \n",
      "==================================================================================================\n",
      "Total params: 357430 (1.36 MB)\n",
      "Trainable params: 357430 (1.36 MB)\n",
      "Non-trainable params: 0 (0.00 Byte)\n",
      "__________________________________________________________________________________________________\n",
      "None\n"
     ]
    }
   ],
   "source": [
    "print(model.summary())"
   ]
  },
  {
   "cell_type": "code",
   "execution_count": 50,
   "metadata": {},
   "outputs": [],
   "source": [
    "y_train_combined = np.array([y1_train, y2_train, y3_train, y4_train, y5_train, y6_train, y7_train, y8_train, y9_train, y10_train, y11_train, y12_train, y13_train, y14_train, y15_train, y16_train, y17_train, y18_train])"
   ]
  },
  {
   "cell_type": "code",
   "execution_count": 51,
   "metadata": {},
   "outputs": [
    {
     "name": "stdout",
     "output_type": "stream",
     "text": [
      "Epoch 1/25\n",
      "188/188 [==============================] - 25s 102ms/step - loss: 6.8073 - dense_36_loss: 0.1150 - dense_37_loss: 0.4835 - dense_38_loss: 0.3788 - dense_39_loss: 0.1175 - dense_40_loss: 0.3678 - dense_41_loss: 0.6980 - dense_42_loss: 0.3495 - dense_43_loss: 0.1856 - dense_44_loss: 0.1712 - dense_45_loss: 0.2413 - dense_46_loss: 0.5710 - dense_47_loss: 0.6532 - dense_48_loss: 0.4323 - dense_49_loss: 0.3168 - dense_50_loss: 0.5325 - dense_51_loss: 0.3530 - dense_52_loss: 0.3850 - dense_53_loss: 0.4553 - dense_36_acc: 0.9814 - dense_37_acc: 0.8198 - dense_38_acc: 0.8787 - dense_39_acc: 0.9807 - dense_40_acc: 0.8861 - dense_41_acc: 0.4957 - dense_42_acc: 0.8948 - dense_43_acc: 0.9619 - dense_44_acc: 0.9658 - dense_45_acc: 0.9415 - dense_46_acc: 0.7495 - dense_47_acc: 0.6476 - dense_48_acc: 0.8496 - dense_49_acc: 0.9096 - dense_50_acc: 0.7851 - dense_51_acc: 0.8939 - dense_52_acc: 0.8773 - dense_53_acc: 0.8389 - val_loss: 6.4794 - val_dense_36_loss: 0.0678 - val_dense_37_loss: 0.4709 - val_dense_38_loss: 0.3500 - val_dense_39_loss: 0.0715 - val_dense_40_loss: 0.3461 - val_dense_41_loss: 0.6966 - val_dense_42_loss: 0.3393 - val_dense_43_loss: 0.1692 - val_dense_44_loss: 0.1583 - val_dense_45_loss: 0.2251 - val_dense_46_loss: 0.5606 - val_dense_47_loss: 0.6611 - val_dense_48_loss: 0.4362 - val_dense_49_loss: 0.2936 - val_dense_50_loss: 0.5269 - val_dense_51_loss: 0.3142 - val_dense_52_loss: 0.3635 - val_dense_53_loss: 0.4286 - val_dense_36_acc: 0.9874 - val_dense_37_acc: 0.8205 - val_dense_38_acc: 0.8883 - val_dense_39_acc: 0.9867 - val_dense_40_acc: 0.8903 - val_dense_41_acc: 0.4960 - val_dense_42_acc: 0.8943 - val_dense_43_acc: 0.9601 - val_dense_44_acc: 0.9634 - val_dense_45_acc: 0.9408 - val_dense_46_acc: 0.7533 - val_dense_47_acc: 0.6456 - val_dense_48_acc: 0.8424 - val_dense_49_acc: 0.9142 - val_dense_50_acc: 0.7892 - val_dense_51_acc: 0.9049 - val_dense_52_acc: 0.8830 - val_dense_53_acc: 0.8504\n",
      "Epoch 2/25\n",
      "188/188 [==============================] - 20s 106ms/step - loss: 6.4925 - dense_36_loss: 0.0845 - dense_37_loss: 0.4696 - dense_38_loss: 0.3651 - dense_39_loss: 0.0847 - dense_40_loss: 0.3508 - dense_41_loss: 0.6970 - dense_42_loss: 0.3312 - dense_43_loss: 0.1526 - dense_44_loss: 0.1396 - dense_45_loss: 0.2183 - dense_46_loss: 0.5618 - dense_47_loss: 0.6505 - dense_48_loss: 0.4226 - dense_49_loss: 0.2985 - dense_50_loss: 0.5210 - dense_51_loss: 0.3349 - dense_52_loss: 0.3692 - dense_53_loss: 0.4406 - dense_36_acc: 0.9835 - dense_37_acc: 0.8218 - dense_38_acc: 0.8813 - dense_39_acc: 0.9835 - dense_40_acc: 0.8885 - dense_41_acc: 0.5010 - dense_42_acc: 0.8978 - dense_43_acc: 0.9649 - dense_44_acc: 0.9688 - dense_45_acc: 0.9435 - dense_46_acc: 0.7507 - dense_47_acc: 0.6494 - dense_48_acc: 0.8511 - dense_49_acc: 0.9121 - dense_50_acc: 0.7852 - dense_51_acc: 0.8961 - dense_52_acc: 0.8797 - dense_53_acc: 0.8404 - val_loss: 6.4334 - val_dense_36_loss: 0.0678 - val_dense_37_loss: 0.4695 - val_dense_38_loss: 0.3496 - val_dense_39_loss: 0.0706 - val_dense_40_loss: 0.3460 - val_dense_41_loss: 0.6921 - val_dense_42_loss: 0.3366 - val_dense_43_loss: 0.1684 - val_dense_44_loss: 0.1587 - val_dense_45_loss: 0.2281 - val_dense_46_loss: 0.5567 - val_dense_47_loss: 0.6492 - val_dense_48_loss: 0.4353 - val_dense_49_loss: 0.2925 - val_dense_50_loss: 0.5133 - val_dense_51_loss: 0.3154 - val_dense_52_loss: 0.3624 - val_dense_53_loss: 0.4212 - val_dense_36_acc: 0.9874 - val_dense_37_acc: 0.8205 - val_dense_38_acc: 0.8883 - val_dense_39_acc: 0.9867 - val_dense_40_acc: 0.8903 - val_dense_41_acc: 0.5186 - val_dense_42_acc: 0.8943 - val_dense_43_acc: 0.9601 - val_dense_44_acc: 0.9634 - val_dense_45_acc: 0.9408 - val_dense_46_acc: 0.7533 - val_dense_47_acc: 0.6456 - val_dense_48_acc: 0.8424 - val_dense_49_acc: 0.9142 - val_dense_50_acc: 0.7892 - val_dense_51_acc: 0.9049 - val_dense_52_acc: 0.8830 - val_dense_53_acc: 0.8504\n",
      "Epoch 3/25\n",
      "188/188 [==============================] - 23s 120ms/step - loss: 6.4100 - dense_36_loss: 0.0843 - dense_37_loss: 0.4632 - dense_38_loss: 0.3599 - dense_39_loss: 0.0843 - dense_40_loss: 0.3472 - dense_41_loss: 0.6859 - dense_42_loss: 0.3274 - dense_43_loss: 0.1526 - dense_44_loss: 0.1398 - dense_45_loss: 0.2178 - dense_46_loss: 0.5510 - dense_47_loss: 0.6384 - dense_48_loss: 0.4183 - dense_49_loss: 0.2961 - dense_50_loss: 0.5106 - dense_51_loss: 0.3317 - dense_52_loss: 0.3667 - dense_53_loss: 0.4347 - dense_36_acc: 0.9835 - dense_37_acc: 0.8218 - dense_38_acc: 0.8813 - dense_39_acc: 0.9835 - dense_40_acc: 0.8885 - dense_41_acc: 0.5537 - dense_42_acc: 0.8978 - dense_43_acc: 0.9649 - dense_44_acc: 0.9688 - dense_45_acc: 0.9435 - dense_46_acc: 0.7507 - dense_47_acc: 0.6501 - dense_48_acc: 0.8511 - dense_49_acc: 0.9121 - dense_50_acc: 0.7852 - dense_51_acc: 0.8961 - dense_52_acc: 0.8797 - dense_53_acc: 0.8404 - val_loss: 6.4022 - val_dense_36_loss: 0.0684 - val_dense_37_loss: 0.4691 - val_dense_38_loss: 0.3504 - val_dense_39_loss: 0.0707 - val_dense_40_loss: 0.3427 - val_dense_41_loss: 0.6925 - val_dense_42_loss: 0.3331 - val_dense_43_loss: 0.1692 - val_dense_44_loss: 0.1587 - val_dense_45_loss: 0.2248 - val_dense_46_loss: 0.5503 - val_dense_47_loss: 0.6496 - val_dense_48_loss: 0.4330 - val_dense_49_loss: 0.2909 - val_dense_50_loss: 0.5092 - val_dense_51_loss: 0.3111 - val_dense_52_loss: 0.3576 - val_dense_53_loss: 0.4207 - val_dense_36_acc: 0.9874 - val_dense_37_acc: 0.8205 - val_dense_38_acc: 0.8883 - val_dense_39_acc: 0.9867 - val_dense_40_acc: 0.8903 - val_dense_41_acc: 0.5153 - val_dense_42_acc: 0.8943 - val_dense_43_acc: 0.9601 - val_dense_44_acc: 0.9634 - val_dense_45_acc: 0.9408 - val_dense_46_acc: 0.7533 - val_dense_47_acc: 0.6463 - val_dense_48_acc: 0.8424 - val_dense_49_acc: 0.9142 - val_dense_50_acc: 0.7892 - val_dense_51_acc: 0.9049 - val_dense_52_acc: 0.8830 - val_dense_53_acc: 0.8504\n",
      "Epoch 4/25\n",
      "188/188 [==============================] - 21s 112ms/step - loss: 6.0182 - dense_36_loss: 0.0838 - dense_37_loss: 0.4304 - dense_38_loss: 0.3393 - dense_39_loss: 0.0841 - dense_40_loss: 0.3343 - dense_41_loss: 0.6601 - dense_42_loss: 0.3155 - dense_43_loss: 0.1507 - dense_44_loss: 0.1403 - dense_45_loss: 0.2150 - dense_46_loss: 0.4803 - dense_47_loss: 0.5904 - dense_48_loss: 0.3923 - dense_49_loss: 0.2761 - dense_50_loss: 0.4816 - dense_51_loss: 0.3069 - dense_52_loss: 0.3297 - dense_53_loss: 0.4073 - dense_36_acc: 0.9835 - dense_37_acc: 0.8240 - dense_38_acc: 0.8813 - dense_39_acc: 0.9835 - dense_40_acc: 0.8885 - dense_41_acc: 0.6124 - dense_42_acc: 0.8978 - dense_43_acc: 0.9649 - dense_44_acc: 0.9688 - dense_45_acc: 0.9435 - dense_46_acc: 0.7660 - dense_47_acc: 0.6804 - dense_48_acc: 0.8511 - dense_49_acc: 0.9121 - dense_50_acc: 0.7856 - dense_51_acc: 0.8961 - dense_52_acc: 0.8797 - dense_53_acc: 0.8404 - val_loss: 5.9713 - val_dense_36_loss: 0.0675 - val_dense_37_loss: 0.4415 - val_dense_38_loss: 0.3351 - val_dense_39_loss: 0.0689 - val_dense_40_loss: 0.3154 - val_dense_41_loss: 0.6672 - val_dense_42_loss: 0.3218 - val_dense_43_loss: 0.1649 - val_dense_44_loss: 0.1569 - val_dense_45_loss: 0.2246 - val_dense_46_loss: 0.4833 - val_dense_47_loss: 0.6215 - val_dense_48_loss: 0.3871 - val_dense_49_loss: 0.2735 - val_dense_50_loss: 0.4974 - val_dense_51_loss: 0.2631 - val_dense_52_loss: 0.2968 - val_dense_53_loss: 0.3850 - val_dense_36_acc: 0.9874 - val_dense_37_acc: 0.8225 - val_dense_38_acc: 0.8883 - val_dense_39_acc: 0.9867 - val_dense_40_acc: 0.8903 - val_dense_41_acc: 0.5918 - val_dense_42_acc: 0.8943 - val_dense_43_acc: 0.9601 - val_dense_44_acc: 0.9634 - val_dense_45_acc: 0.9408 - val_dense_46_acc: 0.7626 - val_dense_47_acc: 0.6622 - val_dense_48_acc: 0.8424 - val_dense_49_acc: 0.9142 - val_dense_50_acc: 0.7852 - val_dense_51_acc: 0.9049 - val_dense_52_acc: 0.8830 - val_dense_53_acc: 0.8537\n",
      "Epoch 5/25\n",
      "188/188 [==============================] - 24s 127ms/step - loss: 5.1064 - dense_36_loss: 0.0826 - dense_37_loss: 0.3674 - dense_38_loss: 0.3004 - dense_39_loss: 0.0811 - dense_40_loss: 0.2751 - dense_41_loss: 0.5841 - dense_42_loss: 0.2744 - dense_43_loss: 0.1462 - dense_44_loss: 0.1374 - dense_45_loss: 0.2090 - dense_46_loss: 0.3565 - dense_47_loss: 0.5168 - dense_48_loss: 0.3364 - dense_49_loss: 0.2496 - dense_50_loss: 0.4139 - dense_51_loss: 0.2201 - dense_52_loss: 0.2269 - dense_53_loss: 0.3286 - dense_36_acc: 0.9835 - dense_37_acc: 0.8376 - dense_38_acc: 0.8812 - dense_39_acc: 0.9835 - dense_40_acc: 0.8906 - dense_41_acc: 0.6958 - dense_42_acc: 0.8989 - dense_43_acc: 0.9649 - dense_44_acc: 0.9688 - dense_45_acc: 0.9435 - dense_46_acc: 0.8344 - dense_47_acc: 0.7414 - dense_48_acc: 0.8522 - dense_49_acc: 0.9121 - dense_50_acc: 0.8055 - dense_51_acc: 0.9061 - dense_52_acc: 0.8996 - dense_53_acc: 0.8554 - val_loss: 5.9447 - val_dense_36_loss: 0.0664 - val_dense_37_loss: 0.4080 - val_dense_38_loss: 0.3284 - val_dense_39_loss: 0.0675 - val_dense_40_loss: 0.3185 - val_dense_41_loss: 0.6453 - val_dense_42_loss: 0.2982 - val_dense_43_loss: 0.1640 - val_dense_44_loss: 0.1549 - val_dense_45_loss: 0.2211 - val_dense_46_loss: 0.5058 - val_dense_47_loss: 0.6388 - val_dense_48_loss: 0.3840 - val_dense_49_loss: 0.2842 - val_dense_50_loss: 0.4561 - val_dense_51_loss: 0.2830 - val_dense_52_loss: 0.3411 - val_dense_53_loss: 0.3793 - val_dense_36_acc: 0.9874 - val_dense_37_acc: 0.8198 - val_dense_38_acc: 0.8883 - val_dense_39_acc: 0.9867 - val_dense_40_acc: 0.8903 - val_dense_41_acc: 0.6170 - val_dense_42_acc: 0.8930 - val_dense_43_acc: 0.9601 - val_dense_44_acc: 0.9634 - val_dense_45_acc: 0.9408 - val_dense_46_acc: 0.7294 - val_dense_47_acc: 0.6855 - val_dense_48_acc: 0.8451 - val_dense_49_acc: 0.9142 - val_dense_50_acc: 0.7985 - val_dense_51_acc: 0.9056 - val_dense_52_acc: 0.8910 - val_dense_53_acc: 0.8570\n",
      "Epoch 6/25\n",
      "188/188 [==============================] - 35s 186ms/step - loss: 4.5788 - dense_36_loss: 0.0823 - dense_37_loss: 0.3371 - dense_38_loss: 0.2778 - dense_39_loss: 0.0795 - dense_40_loss: 0.2538 - dense_41_loss: 0.5225 - dense_42_loss: 0.2462 - dense_43_loss: 0.1428 - dense_44_loss: 0.1306 - dense_45_loss: 0.2000 - dense_46_loss: 0.3015 - dense_47_loss: 0.4660 - dense_48_loss: 0.3087 - dense_49_loss: 0.2364 - dense_50_loss: 0.3578 - dense_51_loss: 0.1772 - dense_52_loss: 0.1732 - dense_53_loss: 0.2853 - dense_36_acc: 0.9835 - dense_37_acc: 0.8472 - dense_38_acc: 0.8810 - dense_39_acc: 0.9835 - dense_40_acc: 0.8903 - dense_41_acc: 0.7384 - dense_42_acc: 0.9039 - dense_43_acc: 0.9649 - dense_44_acc: 0.9688 - dense_45_acc: 0.9435 - dense_46_acc: 0.8622 - dense_47_acc: 0.7784 - dense_48_acc: 0.8619 - dense_49_acc: 0.9121 - dense_50_acc: 0.8366 - dense_51_acc: 0.9205 - dense_52_acc: 0.9297 - dense_53_acc: 0.8722 - val_loss: 5.6973 - val_dense_36_loss: 0.0663 - val_dense_37_loss: 0.3918 - val_dense_38_loss: 0.3277 - val_dense_39_loss: 0.0674 - val_dense_40_loss: 0.3046 - val_dense_41_loss: 0.6345 - val_dense_42_loss: 0.2798 - val_dense_43_loss: 0.1654 - val_dense_44_loss: 0.1471 - val_dense_45_loss: 0.2233 - val_dense_46_loss: 0.4887 - val_dense_47_loss: 0.6120 - val_dense_48_loss: 0.3823 - val_dense_49_loss: 0.2800 - val_dense_50_loss: 0.4387 - val_dense_51_loss: 0.2352 - val_dense_52_loss: 0.2904 - val_dense_53_loss: 0.3621 - val_dense_36_acc: 0.9874 - val_dense_37_acc: 0.8231 - val_dense_38_acc: 0.8883 - val_dense_39_acc: 0.9867 - val_dense_40_acc: 0.8896 - val_dense_41_acc: 0.6316 - val_dense_42_acc: 0.8930 - val_dense_43_acc: 0.9601 - val_dense_44_acc: 0.9634 - val_dense_45_acc: 0.9408 - val_dense_46_acc: 0.7713 - val_dense_47_acc: 0.6868 - val_dense_48_acc: 0.8384 - val_dense_49_acc: 0.9142 - val_dense_50_acc: 0.7926 - val_dense_51_acc: 0.9136 - val_dense_52_acc: 0.9116 - val_dense_53_acc: 0.8584\n",
      "Epoch 7/25\n",
      "188/188 [==============================] - 22s 116ms/step - loss: 4.2076 - dense_36_loss: 0.0809 - dense_37_loss: 0.3176 - dense_38_loss: 0.2613 - dense_39_loss: 0.0763 - dense_40_loss: 0.2505 - dense_41_loss: 0.4668 - dense_42_loss: 0.2247 - dense_43_loss: 0.1398 - dense_44_loss: 0.1258 - dense_45_loss: 0.1895 - dense_46_loss: 0.2535 - dense_47_loss: 0.4250 - dense_48_loss: 0.2857 - dense_49_loss: 0.2248 - dense_50_loss: 0.3219 - dense_51_loss: 0.1597 - dense_52_loss: 0.1424 - dense_53_loss: 0.2613 - dense_36_acc: 0.9835 - dense_37_acc: 0.8594 - dense_38_acc: 0.8841 - dense_39_acc: 0.9835 - dense_40_acc: 0.8881 - dense_41_acc: 0.7766 - dense_42_acc: 0.9152 - dense_43_acc: 0.9649 - dense_44_acc: 0.9688 - dense_45_acc: 0.9435 - dense_46_acc: 0.8875 - dense_47_acc: 0.8068 - dense_48_acc: 0.8793 - dense_49_acc: 0.9124 - dense_50_acc: 0.8567 - dense_51_acc: 0.9318 - dense_52_acc: 0.9448 - dense_53_acc: 0.8818 - val_loss: 5.7548 - val_dense_36_loss: 0.0680 - val_dense_37_loss: 0.4034 - val_dense_38_loss: 0.3282 - val_dense_39_loss: 0.0693 - val_dense_40_loss: 0.3027 - val_dense_41_loss: 0.6515 - val_dense_42_loss: 0.2654 - val_dense_43_loss: 0.1639 - val_dense_44_loss: 0.1476 - val_dense_45_loss: 0.2262 - val_dense_46_loss: 0.5482 - val_dense_47_loss: 0.6149 - val_dense_48_loss: 0.4072 - val_dense_49_loss: 0.2942 - val_dense_50_loss: 0.4355 - val_dense_51_loss: 0.2148 - val_dense_52_loss: 0.2614 - val_dense_53_loss: 0.3523 - val_dense_36_acc: 0.9874 - val_dense_37_acc: 0.8271 - val_dense_38_acc: 0.8896 - val_dense_39_acc: 0.9867 - val_dense_40_acc: 0.8863 - val_dense_41_acc: 0.6496 - val_dense_42_acc: 0.8996 - val_dense_43_acc: 0.9601 - val_dense_44_acc: 0.9634 - val_dense_45_acc: 0.9408 - val_dense_46_acc: 0.7886 - val_dense_47_acc: 0.6789 - val_dense_48_acc: 0.8471 - val_dense_49_acc: 0.9142 - val_dense_50_acc: 0.7959 - val_dense_51_acc: 0.9176 - val_dense_52_acc: 0.9076 - val_dense_53_acc: 0.8371\n",
      "Epoch 8/25\n",
      "188/188 [==============================] - 23s 120ms/step - loss: 3.8998 - dense_36_loss: 0.0781 - dense_37_loss: 0.3067 - dense_38_loss: 0.2432 - dense_39_loss: 0.0756 - dense_40_loss: 0.2428 - dense_41_loss: 0.4122 - dense_42_loss: 0.2140 - dense_43_loss: 0.1357 - dense_44_loss: 0.1234 - dense_45_loss: 0.1784 - dense_46_loss: 0.2120 - dense_47_loss: 0.3841 - dense_48_loss: 0.2660 - dense_49_loss: 0.2155 - dense_50_loss: 0.2923 - dense_51_loss: 0.1441 - dense_52_loss: 0.1230 - dense_53_loss: 0.2524 - dense_36_acc: 0.9835 - dense_37_acc: 0.8687 - dense_38_acc: 0.8939 - dense_39_acc: 0.9835 - dense_40_acc: 0.8949 - dense_41_acc: 0.8175 - dense_42_acc: 0.9164 - dense_43_acc: 0.9649 - dense_44_acc: 0.9688 - dense_45_acc: 0.9435 - dense_46_acc: 0.9131 - dense_47_acc: 0.8334 - dense_48_acc: 0.8881 - dense_49_acc: 0.9134 - dense_50_acc: 0.8713 - dense_51_acc: 0.9413 - dense_52_acc: 0.9528 - dense_53_acc: 0.8868 - val_loss: 5.9913 - val_dense_36_loss: 0.0708 - val_dense_37_loss: 0.4129 - val_dense_38_loss: 0.3330 - val_dense_39_loss: 0.0677 - val_dense_40_loss: 0.3179 - val_dense_41_loss: 0.6742 - val_dense_42_loss: 0.2755 - val_dense_43_loss: 0.1599 - val_dense_44_loss: 0.1503 - val_dense_45_loss: 0.2175 - val_dense_46_loss: 0.5682 - val_dense_47_loss: 0.6486 - val_dense_48_loss: 0.3852 - val_dense_49_loss: 0.2969 - val_dense_50_loss: 0.4487 - val_dense_51_loss: 0.2560 - val_dense_52_loss: 0.3297 - val_dense_53_loss: 0.3784 - val_dense_36_acc: 0.9874 - val_dense_37_acc: 0.8251 - val_dense_38_acc: 0.8890 - val_dense_39_acc: 0.9867 - val_dense_40_acc: 0.8910 - val_dense_41_acc: 0.6523 - val_dense_42_acc: 0.9056 - val_dense_43_acc: 0.9601 - val_dense_44_acc: 0.9634 - val_dense_45_acc: 0.9408 - val_dense_46_acc: 0.7699 - val_dense_47_acc: 0.6908 - val_dense_48_acc: 0.8424 - val_dense_49_acc: 0.9089 - val_dense_50_acc: 0.7952 - val_dense_51_acc: 0.9136 - val_dense_52_acc: 0.9162 - val_dense_53_acc: 0.8610\n",
      "Epoch 9/25\n",
      "188/188 [==============================] - 23s 121ms/step - loss: 3.6575 - dense_36_loss: 0.0752 - dense_37_loss: 0.2962 - dense_38_loss: 0.2229 - dense_39_loss: 0.0746 - dense_40_loss: 0.2444 - dense_41_loss: 0.3641 - dense_42_loss: 0.2045 - dense_43_loss: 0.1311 - dense_44_loss: 0.1218 - dense_45_loss: 0.1675 - dense_46_loss: 0.1847 - dense_47_loss: 0.3493 - dense_48_loss: 0.2498 - dense_49_loss: 0.2104 - dense_50_loss: 0.2721 - dense_51_loss: 0.1330 - dense_52_loss: 0.1110 - dense_53_loss: 0.2449 - dense_36_acc: 0.9835 - dense_37_acc: 0.8821 - dense_38_acc: 0.9021 - dense_39_acc: 0.9835 - dense_40_acc: 0.8971 - dense_41_acc: 0.8481 - dense_42_acc: 0.9217 - dense_43_acc: 0.9649 - dense_44_acc: 0.9688 - dense_45_acc: 0.9435 - dense_46_acc: 0.9265 - dense_47_acc: 0.8572 - dense_48_acc: 0.8969 - dense_49_acc: 0.9169 - dense_50_acc: 0.8850 - dense_51_acc: 0.9481 - dense_52_acc: 0.9576 - dense_53_acc: 0.8883 - val_loss: 6.0965 - val_dense_36_loss: 0.0764 - val_dense_37_loss: 0.4367 - val_dense_38_loss: 0.3333 - val_dense_39_loss: 0.0685 - val_dense_40_loss: 0.3134 - val_dense_41_loss: 0.6882 - val_dense_42_loss: 0.2736 - val_dense_43_loss: 0.1596 - val_dense_44_loss: 0.1475 - val_dense_45_loss: 0.2252 - val_dense_46_loss: 0.6135 - val_dense_47_loss: 0.6589 - val_dense_48_loss: 0.3999 - val_dense_49_loss: 0.3046 - val_dense_50_loss: 0.4791 - val_dense_51_loss: 0.2293 - val_dense_52_loss: 0.3114 - val_dense_53_loss: 0.3774 - val_dense_36_acc: 0.9874 - val_dense_37_acc: 0.8158 - val_dense_38_acc: 0.8823 - val_dense_39_acc: 0.9867 - val_dense_40_acc: 0.8763 - val_dense_41_acc: 0.6503 - val_dense_42_acc: 0.8870 - val_dense_43_acc: 0.9601 - val_dense_44_acc: 0.9634 - val_dense_45_acc: 0.9408 - val_dense_46_acc: 0.7832 - val_dense_47_acc: 0.6822 - val_dense_48_acc: 0.8411 - val_dense_49_acc: 0.9149 - val_dense_50_acc: 0.7653 - val_dense_51_acc: 0.9189 - val_dense_52_acc: 0.9156 - val_dense_53_acc: 0.8198\n",
      "Epoch 10/25\n",
      "188/188 [==============================] - 22s 115ms/step - loss: 3.4163 - dense_36_loss: 0.0738 - dense_37_loss: 0.2854 - dense_38_loss: 0.2015 - dense_39_loss: 0.0731 - dense_40_loss: 0.2412 - dense_41_loss: 0.3222 - dense_42_loss: 0.1975 - dense_43_loss: 0.1221 - dense_44_loss: 0.1189 - dense_45_loss: 0.1547 - dense_46_loss: 0.1710 - dense_47_loss: 0.3143 - dense_48_loss: 0.2309 - dense_49_loss: 0.2019 - dense_50_loss: 0.2455 - dense_51_loss: 0.1281 - dense_52_loss: 0.0973 - dense_53_loss: 0.2367 - dense_36_acc: 0.9835 - dense_37_acc: 0.8968 - dense_38_acc: 0.9141 - dense_39_acc: 0.9835 - dense_40_acc: 0.8969 - dense_41_acc: 0.8702 - dense_42_acc: 0.9217 - dense_43_acc: 0.9649 - dense_44_acc: 0.9688 - dense_45_acc: 0.9435 - dense_46_acc: 0.9357 - dense_47_acc: 0.8750 - dense_48_acc: 0.9082 - dense_49_acc: 0.9167 - dense_50_acc: 0.8968 - dense_51_acc: 0.9498 - dense_52_acc: 0.9628 - dense_53_acc: 0.8958 - val_loss: 6.2695 - val_dense_36_loss: 0.0702 - val_dense_37_loss: 0.4448 - val_dense_38_loss: 0.3378 - val_dense_39_loss: 0.0685 - val_dense_40_loss: 0.3077 - val_dense_41_loss: 0.7419 - val_dense_42_loss: 0.2664 - val_dense_43_loss: 0.1568 - val_dense_44_loss: 0.1518 - val_dense_45_loss: 0.2292 - val_dense_46_loss: 0.6395 - val_dense_47_loss: 0.7138 - val_dense_48_loss: 0.4077 - val_dense_49_loss: 0.3048 - val_dense_50_loss: 0.4578 - val_dense_51_loss: 0.2527 - val_dense_52_loss: 0.3479 - val_dense_53_loss: 0.3703 - val_dense_36_acc: 0.9874 - val_dense_37_acc: 0.8172 - val_dense_38_acc: 0.8843 - val_dense_39_acc: 0.9867 - val_dense_40_acc: 0.8830 - val_dense_41_acc: 0.6562 - val_dense_42_acc: 0.9023 - val_dense_43_acc: 0.9601 - val_dense_44_acc: 0.9634 - val_dense_45_acc: 0.9408 - val_dense_46_acc: 0.7766 - val_dense_47_acc: 0.6715 - val_dense_48_acc: 0.8457 - val_dense_49_acc: 0.9109 - val_dense_50_acc: 0.7952 - val_dense_51_acc: 0.9169 - val_dense_52_acc: 0.9102 - val_dense_53_acc: 0.8431\n",
      "Epoch 11/25\n",
      "188/188 [==============================] - 21s 113ms/step - loss: 3.1985 - dense_36_loss: 0.0714 - dense_37_loss: 0.2763 - dense_38_loss: 0.1719 - dense_39_loss: 0.0728 - dense_40_loss: 0.2375 - dense_41_loss: 0.2868 - dense_42_loss: 0.1896 - dense_43_loss: 0.1132 - dense_44_loss: 0.1183 - dense_45_loss: 0.1451 - dense_46_loss: 0.1539 - dense_47_loss: 0.2850 - dense_48_loss: 0.2184 - dense_49_loss: 0.1964 - dense_50_loss: 0.2190 - dense_51_loss: 0.1270 - dense_52_loss: 0.0910 - dense_53_loss: 0.2249 - dense_36_acc: 0.9835 - dense_37_acc: 0.8978 - dense_38_acc: 0.9315 - dense_39_acc: 0.9835 - dense_40_acc: 0.8971 - dense_41_acc: 0.8911 - dense_42_acc: 0.9235 - dense_43_acc: 0.9649 - dense_44_acc: 0.9688 - dense_45_acc: 0.9438 - dense_46_acc: 0.9423 - dense_47_acc: 0.8915 - dense_48_acc: 0.9092 - dense_49_acc: 0.9171 - dense_50_acc: 0.9136 - dense_51_acc: 0.9520 - dense_52_acc: 0.9663 - dense_53_acc: 0.9014 - val_loss: 6.3572 - val_dense_36_loss: 0.0721 - val_dense_37_loss: 0.4446 - val_dense_38_loss: 0.3398 - val_dense_39_loss: 0.0695 - val_dense_40_loss: 0.3012 - val_dense_41_loss: 0.7673 - val_dense_42_loss: 0.2671 - val_dense_43_loss: 0.1613 - val_dense_44_loss: 0.1518 - val_dense_45_loss: 0.2400 - val_dense_46_loss: 0.6945 - val_dense_47_loss: 0.7440 - val_dense_48_loss: 0.4132 - val_dense_49_loss: 0.3118 - val_dense_50_loss: 0.4549 - val_dense_51_loss: 0.2338 - val_dense_52_loss: 0.3221 - val_dense_53_loss: 0.3684 - val_dense_36_acc: 0.9874 - val_dense_37_acc: 0.8112 - val_dense_38_acc: 0.8743 - val_dense_39_acc: 0.9867 - val_dense_40_acc: 0.8903 - val_dense_41_acc: 0.6430 - val_dense_42_acc: 0.9016 - val_dense_43_acc: 0.9601 - val_dense_44_acc: 0.9634 - val_dense_45_acc: 0.9408 - val_dense_46_acc: 0.7846 - val_dense_47_acc: 0.6589 - val_dense_48_acc: 0.8524 - val_dense_49_acc: 0.9062 - val_dense_50_acc: 0.8065 - val_dense_51_acc: 0.9156 - val_dense_52_acc: 0.9016 - val_dense_53_acc: 0.8245\n",
      "Epoch 12/25\n",
      "188/188 [==============================] - 23s 120ms/step - loss: 2.9587 - dense_36_loss: 0.0686 - dense_37_loss: 0.2632 - dense_38_loss: 0.1480 - dense_39_loss: 0.0712 - dense_40_loss: 0.2327 - dense_41_loss: 0.2520 - dense_42_loss: 0.1836 - dense_43_loss: 0.1046 - dense_44_loss: 0.1162 - dense_45_loss: 0.1331 - dense_46_loss: 0.1376 - dense_47_loss: 0.2535 - dense_48_loss: 0.2005 - dense_49_loss: 0.1903 - dense_50_loss: 0.1826 - dense_51_loss: 0.1190 - dense_52_loss: 0.0850 - dense_53_loss: 0.2170 - dense_36_acc: 0.9835 - dense_37_acc: 0.9074 - dense_38_acc: 0.9418 - dense_39_acc: 0.9835 - dense_40_acc: 0.8994 - dense_41_acc: 0.9086 - dense_42_acc: 0.9280 - dense_43_acc: 0.9649 - dense_44_acc: 0.9688 - dense_45_acc: 0.9481 - dense_46_acc: 0.9485 - dense_47_acc: 0.9038 - dense_48_acc: 0.9210 - dense_49_acc: 0.9222 - dense_50_acc: 0.9299 - dense_51_acc: 0.9548 - dense_52_acc: 0.9691 - dense_53_acc: 0.9059 - val_loss: 6.7292 - val_dense_36_loss: 0.0741 - val_dense_37_loss: 0.4543 - val_dense_38_loss: 0.3513 - val_dense_39_loss: 0.0705 - val_dense_40_loss: 0.3037 - val_dense_41_loss: 0.8501 - val_dense_42_loss: 0.2754 - val_dense_43_loss: 0.1604 - val_dense_44_loss: 0.1505 - val_dense_45_loss: 0.2569 - val_dense_46_loss: 0.7793 - val_dense_47_loss: 0.8224 - val_dense_48_loss: 0.4260 - val_dense_49_loss: 0.3326 - val_dense_50_loss: 0.4748 - val_dense_51_loss: 0.2434 - val_dense_52_loss: 0.3240 - val_dense_53_loss: 0.3793 - val_dense_36_acc: 0.9874 - val_dense_37_acc: 0.8138 - val_dense_38_acc: 0.8856 - val_dense_39_acc: 0.9867 - val_dense_40_acc: 0.8910 - val_dense_41_acc: 0.6257 - val_dense_42_acc: 0.9036 - val_dense_43_acc: 0.9601 - val_dense_44_acc: 0.9634 - val_dense_45_acc: 0.9408 - val_dense_46_acc: 0.7779 - val_dense_47_acc: 0.6516 - val_dense_48_acc: 0.8524 - val_dense_49_acc: 0.9009 - val_dense_50_acc: 0.7985 - val_dense_51_acc: 0.9156 - val_dense_52_acc: 0.9016 - val_dense_53_acc: 0.8404\n",
      "Epoch 13/25\n",
      "188/188 [==============================] - 22s 119ms/step - loss: 2.7659 - dense_36_loss: 0.0669 - dense_37_loss: 0.2458 - dense_38_loss: 0.1286 - dense_39_loss: 0.0711 - dense_40_loss: 0.2238 - dense_41_loss: 0.2224 - dense_42_loss: 0.1761 - dense_43_loss: 0.0929 - dense_44_loss: 0.1155 - dense_45_loss: 0.1204 - dense_46_loss: 0.1326 - dense_47_loss: 0.2348 - dense_48_loss: 0.1900 - dense_49_loss: 0.1830 - dense_50_loss: 0.1608 - dense_51_loss: 0.1152 - dense_52_loss: 0.0792 - dense_53_loss: 0.2067 - dense_36_acc: 0.9835 - dense_37_acc: 0.9172 - dense_38_acc: 0.9530 - dense_39_acc: 0.9835 - dense_40_acc: 0.9029 - dense_41_acc: 0.9177 - dense_42_acc: 0.9312 - dense_43_acc: 0.9668 - dense_44_acc: 0.9688 - dense_45_acc: 0.9530 - dense_46_acc: 0.9478 - dense_47_acc: 0.9106 - dense_48_acc: 0.9255 - dense_49_acc: 0.9244 - dense_50_acc: 0.9390 - dense_51_acc: 0.9568 - dense_52_acc: 0.9702 - dense_53_acc: 0.9102 - val_loss: 6.9268 - val_dense_36_loss: 0.0738 - val_dense_37_loss: 0.4783 - val_dense_38_loss: 0.3610 - val_dense_39_loss: 0.0681 - val_dense_40_loss: 0.3073 - val_dense_41_loss: 0.9372 - val_dense_42_loss: 0.2767 - val_dense_43_loss: 0.1512 - val_dense_44_loss: 0.1541 - val_dense_45_loss: 0.2396 - val_dense_46_loss: 0.7505 - val_dense_47_loss: 0.8462 - val_dense_48_loss: 0.4219 - val_dense_49_loss: 0.3174 - val_dense_50_loss: 0.4887 - val_dense_51_loss: 0.2650 - val_dense_52_loss: 0.3817 - val_dense_53_loss: 0.4079 - val_dense_36_acc: 0.9874 - val_dense_37_acc: 0.8132 - val_dense_38_acc: 0.8803 - val_dense_39_acc: 0.9867 - val_dense_40_acc: 0.8890 - val_dense_41_acc: 0.6297 - val_dense_42_acc: 0.9029 - val_dense_43_acc: 0.9614 - val_dense_44_acc: 0.9634 - val_dense_45_acc: 0.9375 - val_dense_46_acc: 0.7620 - val_dense_47_acc: 0.6715 - val_dense_48_acc: 0.8331 - val_dense_49_acc: 0.9043 - val_dense_50_acc: 0.7972 - val_dense_51_acc: 0.9136 - val_dense_52_acc: 0.9036 - val_dense_53_acc: 0.8271\n",
      "Epoch 14/25\n",
      "188/188 [==============================] - 23s 122ms/step - loss: 2.5933 - dense_36_loss: 0.0646 - dense_37_loss: 0.2312 - dense_38_loss: 0.1116 - dense_39_loss: 0.0688 - dense_40_loss: 0.2176 - dense_41_loss: 0.2039 - dense_42_loss: 0.1683 - dense_43_loss: 0.0799 - dense_44_loss: 0.1149 - dense_45_loss: 0.1091 - dense_46_loss: 0.1239 - dense_47_loss: 0.2154 - dense_48_loss: 0.1750 - dense_49_loss: 0.1769 - dense_50_loss: 0.1442 - dense_51_loss: 0.1153 - dense_52_loss: 0.0747 - dense_53_loss: 0.1979 - dense_36_acc: 0.9835 - dense_37_acc: 0.9235 - dense_38_acc: 0.9569 - dense_39_acc: 0.9835 - dense_40_acc: 0.9043 - dense_41_acc: 0.9279 - dense_42_acc: 0.9333 - dense_43_acc: 0.9706 - dense_44_acc: 0.9688 - dense_45_acc: 0.9578 - dense_46_acc: 0.9536 - dense_47_acc: 0.9209 - dense_48_acc: 0.9338 - dense_49_acc: 0.9302 - dense_50_acc: 0.9460 - dense_51_acc: 0.9528 - dense_52_acc: 0.9724 - dense_53_acc: 0.9132 - val_loss: 7.1036 - val_dense_36_loss: 0.0841 - val_dense_37_loss: 0.4953 - val_dense_38_loss: 0.3758 - val_dense_39_loss: 0.0695 - val_dense_40_loss: 0.3066 - val_dense_41_loss: 0.9924 - val_dense_42_loss: 0.2729 - val_dense_43_loss: 0.1498 - val_dense_44_loss: 0.1565 - val_dense_45_loss: 0.2564 - val_dense_46_loss: 0.7586 - val_dense_47_loss: 0.8615 - val_dense_48_loss: 0.4253 - val_dense_49_loss: 0.3330 - val_dense_50_loss: 0.5095 - val_dense_51_loss: 0.2631 - val_dense_52_loss: 0.3898 - val_dense_53_loss: 0.4035 - val_dense_36_acc: 0.9874 - val_dense_37_acc: 0.8132 - val_dense_38_acc: 0.8723 - val_dense_39_acc: 0.9867 - val_dense_40_acc: 0.8883 - val_dense_41_acc: 0.6250 - val_dense_42_acc: 0.8983 - val_dense_43_acc: 0.9621 - val_dense_44_acc: 0.9634 - val_dense_45_acc: 0.9242 - val_dense_46_acc: 0.7779 - val_dense_47_acc: 0.6609 - val_dense_48_acc: 0.8358 - val_dense_49_acc: 0.9076 - val_dense_50_acc: 0.7826 - val_dense_51_acc: 0.9136 - val_dense_52_acc: 0.9049 - val_dense_53_acc: 0.8231\n",
      "Epoch 15/25\n",
      "188/188 [==============================] - 1857s 10s/step - loss: 2.4099 - dense_36_loss: 0.0619 - dense_37_loss: 0.2121 - dense_38_loss: 0.0997 - dense_39_loss: 0.0676 - dense_40_loss: 0.2073 - dense_41_loss: 0.1819 - dense_42_loss: 0.1571 - dense_43_loss: 0.0695 - dense_44_loss: 0.1150 - dense_45_loss: 0.0978 - dense_46_loss: 0.1153 - dense_47_loss: 0.1924 - dense_48_loss: 0.1644 - dense_49_loss: 0.1731 - dense_50_loss: 0.1244 - dense_51_loss: 0.1142 - dense_52_loss: 0.0690 - dense_53_loss: 0.1875 - dense_36_acc: 0.9835 - dense_37_acc: 0.9307 - dense_38_acc: 0.9654 - dense_39_acc: 0.9835 - dense_40_acc: 0.9119 - dense_41_acc: 0.9365 - dense_42_acc: 0.9385 - dense_43_acc: 0.9781 - dense_44_acc: 0.9688 - dense_45_acc: 0.9669 - dense_46_acc: 0.9583 - dense_47_acc: 0.9309 - dense_48_acc: 0.9375 - dense_49_acc: 0.9310 - dense_50_acc: 0.9513 - dense_51_acc: 0.9579 - dense_52_acc: 0.9749 - dense_53_acc: 0.9197 - val_loss: 7.5381 - val_dense_36_loss: 0.0802 - val_dense_37_loss: 0.5194 - val_dense_38_loss: 0.4075 - val_dense_39_loss: 0.0689 - val_dense_40_loss: 0.3165 - val_dense_41_loss: 1.0738 - val_dense_42_loss: 0.2887 - val_dense_43_loss: 0.1532 - val_dense_44_loss: 0.1524 - val_dense_45_loss: 0.2661 - val_dense_46_loss: 0.8292 - val_dense_47_loss: 0.9732 - val_dense_48_loss: 0.4457 - val_dense_49_loss: 0.3390 - val_dense_50_loss: 0.5301 - val_dense_51_loss: 0.2698 - val_dense_52_loss: 0.3897 - val_dense_53_loss: 0.4345 - val_dense_36_acc: 0.9874 - val_dense_37_acc: 0.8165 - val_dense_38_acc: 0.8757 - val_dense_39_acc: 0.9867 - val_dense_40_acc: 0.8777 - val_dense_41_acc: 0.6323 - val_dense_42_acc: 0.9023 - val_dense_43_acc: 0.9621 - val_dense_44_acc: 0.9634 - val_dense_45_acc: 0.9362 - val_dense_46_acc: 0.7660 - val_dense_47_acc: 0.6549 - val_dense_48_acc: 0.8324 - val_dense_49_acc: 0.8969 - val_dense_50_acc: 0.8172 - val_dense_51_acc: 0.9176 - val_dense_52_acc: 0.9043 - val_dense_53_acc: 0.8185\n",
      "Epoch 16/25\n",
      "188/188 [==============================] - 15s 80ms/step - loss: 2.2661 - dense_36_loss: 0.0615 - dense_37_loss: 0.1940 - dense_38_loss: 0.0941 - dense_39_loss: 0.0661 - dense_40_loss: 0.2009 - dense_41_loss: 0.1599 - dense_42_loss: 0.1501 - dense_43_loss: 0.0605 - dense_44_loss: 0.1138 - dense_45_loss: 0.0897 - dense_46_loss: 0.1082 - dense_47_loss: 0.1835 - dense_48_loss: 0.1536 - dense_49_loss: 0.1657 - dense_50_loss: 0.1119 - dense_51_loss: 0.1094 - dense_52_loss: 0.0665 - dense_53_loss: 0.1768 - dense_36_acc: 0.9835 - dense_37_acc: 0.9368 - dense_38_acc: 0.9661 - dense_39_acc: 0.9835 - dense_40_acc: 0.9172 - dense_41_acc: 0.9471 - dense_42_acc: 0.9453 - dense_43_acc: 0.9796 - dense_44_acc: 0.9688 - dense_45_acc: 0.9673 - dense_46_acc: 0.9619 - dense_47_acc: 0.9320 - dense_48_acc: 0.9423 - dense_49_acc: 0.9362 - dense_50_acc: 0.9626 - dense_51_acc: 0.9599 - dense_52_acc: 0.9764 - dense_53_acc: 0.9252 - val_loss: 7.7687 - val_dense_36_loss: 0.0752 - val_dense_37_loss: 0.5345 - val_dense_38_loss: 0.4087 - val_dense_39_loss: 0.0691 - val_dense_40_loss: 0.3245 - val_dense_41_loss: 1.1033 - val_dense_42_loss: 0.2854 - val_dense_43_loss: 0.1591 - val_dense_44_loss: 0.1547 - val_dense_45_loss: 0.2790 - val_dense_46_loss: 0.8735 - val_dense_47_loss: 1.0348 - val_dense_48_loss: 0.4572 - val_dense_49_loss: 0.3564 - val_dense_50_loss: 0.5495 - val_dense_51_loss: 0.2746 - val_dense_52_loss: 0.3816 - val_dense_53_loss: 0.4477 - val_dense_36_acc: 0.9874 - val_dense_37_acc: 0.8078 - val_dense_38_acc: 0.8790 - val_dense_39_acc: 0.9867 - val_dense_40_acc: 0.8730 - val_dense_41_acc: 0.6277 - val_dense_42_acc: 0.8956 - val_dense_43_acc: 0.9608 - val_dense_44_acc: 0.9634 - val_dense_45_acc: 0.9202 - val_dense_46_acc: 0.7793 - val_dense_47_acc: 0.6410 - val_dense_48_acc: 0.8391 - val_dense_49_acc: 0.9089 - val_dense_50_acc: 0.8078 - val_dense_51_acc: 0.9169 - val_dense_52_acc: 0.8983 - val_dense_53_acc: 0.8191\n",
      "Epoch 17/25\n",
      "188/188 [==============================] - 23s 122ms/step - loss: 2.1559 - dense_36_loss: 0.0573 - dense_37_loss: 0.1777 - dense_38_loss: 0.0872 - dense_39_loss: 0.0646 - dense_40_loss: 0.1932 - dense_41_loss: 0.1461 - dense_42_loss: 0.1432 - dense_43_loss: 0.0588 - dense_44_loss: 0.1142 - dense_45_loss: 0.0817 - dense_46_loss: 0.1062 - dense_47_loss: 0.1683 - dense_48_loss: 0.1480 - dense_49_loss: 0.1551 - dense_50_loss: 0.1103 - dense_51_loss: 0.1078 - dense_52_loss: 0.0636 - dense_53_loss: 0.1726 - dense_36_acc: 0.9835 - dense_37_acc: 0.9445 - dense_38_acc: 0.9641 - dense_39_acc: 0.9835 - dense_40_acc: 0.9215 - dense_41_acc: 0.9496 - dense_42_acc: 0.9485 - dense_43_acc: 0.9806 - dense_44_acc: 0.9688 - dense_45_acc: 0.9729 - dense_46_acc: 0.9608 - dense_47_acc: 0.9405 - dense_48_acc: 0.9437 - dense_49_acc: 0.9400 - dense_50_acc: 0.9601 - dense_51_acc: 0.9588 - dense_52_acc: 0.9784 - dense_53_acc: 0.9282 - val_loss: 7.9925 - val_dense_36_loss: 0.0843 - val_dense_37_loss: 0.5479 - val_dense_38_loss: 0.4183 - val_dense_39_loss: 0.0705 - val_dense_40_loss: 0.3194 - val_dense_41_loss: 1.1779 - val_dense_42_loss: 0.2886 - val_dense_43_loss: 0.1563 - val_dense_44_loss: 0.1562 - val_dense_45_loss: 0.2754 - val_dense_46_loss: 0.8726 - val_dense_47_loss: 1.0680 - val_dense_48_loss: 0.4658 - val_dense_49_loss: 0.3581 - val_dense_50_loss: 0.5722 - val_dense_51_loss: 0.2841 - val_dense_52_loss: 0.4249 - val_dense_53_loss: 0.4520 - val_dense_36_acc: 0.9874 - val_dense_37_acc: 0.8165 - val_dense_38_acc: 0.8710 - val_dense_39_acc: 0.9867 - val_dense_40_acc: 0.8803 - val_dense_41_acc: 0.6277 - val_dense_42_acc: 0.8976 - val_dense_43_acc: 0.9588 - val_dense_44_acc: 0.9634 - val_dense_45_acc: 0.9195 - val_dense_46_acc: 0.7726 - val_dense_47_acc: 0.6569 - val_dense_48_acc: 0.8451 - val_dense_49_acc: 0.9029 - val_dense_50_acc: 0.8125 - val_dense_51_acc: 0.9122 - val_dense_52_acc: 0.9043 - val_dense_53_acc: 0.8211\n",
      "Epoch 18/25\n",
      "188/188 [==============================] - 22s 117ms/step - loss: 2.0267 - dense_36_loss: 0.0549 - dense_37_loss: 0.1637 - dense_38_loss: 0.0780 - dense_39_loss: 0.0623 - dense_40_loss: 0.1790 - dense_41_loss: 0.1386 - dense_42_loss: 0.1359 - dense_43_loss: 0.0530 - dense_44_loss: 0.1132 - dense_45_loss: 0.0750 - dense_46_loss: 0.1041 - dense_47_loss: 0.1612 - dense_48_loss: 0.1330 - dense_49_loss: 0.1487 - dense_50_loss: 0.0934 - dense_51_loss: 0.1071 - dense_52_loss: 0.0642 - dense_53_loss: 0.1614 - dense_36_acc: 0.9835 - dense_37_acc: 0.9483 - dense_38_acc: 0.9721 - dense_39_acc: 0.9835 - dense_40_acc: 0.9277 - dense_41_acc: 0.9526 - dense_42_acc: 0.9513 - dense_43_acc: 0.9825 - dense_44_acc: 0.9688 - dense_45_acc: 0.9746 - dense_46_acc: 0.9658 - dense_47_acc: 0.9456 - dense_48_acc: 0.9520 - dense_49_acc: 0.9428 - dense_50_acc: 0.9688 - dense_51_acc: 0.9613 - dense_52_acc: 0.9777 - dense_53_acc: 0.9370 - val_loss: 8.4124 - val_dense_36_loss: 0.0780 - val_dense_37_loss: 0.5444 - val_dense_38_loss: 0.4708 - val_dense_39_loss: 0.0695 - val_dense_40_loss: 0.3497 - val_dense_41_loss: 1.2917 - val_dense_42_loss: 0.2989 - val_dense_43_loss: 0.1574 - val_dense_44_loss: 0.1547 - val_dense_45_loss: 0.2886 - val_dense_46_loss: 0.8883 - val_dense_47_loss: 1.1521 - val_dense_48_loss: 0.4750 - val_dense_49_loss: 0.3685 - val_dense_50_loss: 0.6004 - val_dense_51_loss: 0.3091 - val_dense_52_loss: 0.4488 - val_dense_53_loss: 0.4667 - val_dense_36_acc: 0.9874 - val_dense_37_acc: 0.8118 - val_dense_38_acc: 0.8743 - val_dense_39_acc: 0.9867 - val_dense_40_acc: 0.8876 - val_dense_41_acc: 0.6390 - val_dense_42_acc: 0.8963 - val_dense_43_acc: 0.9601 - val_dense_44_acc: 0.9634 - val_dense_45_acc: 0.9116 - val_dense_46_acc: 0.7673 - val_dense_47_acc: 0.6416 - val_dense_48_acc: 0.8265 - val_dense_49_acc: 0.9023 - val_dense_50_acc: 0.7932 - val_dense_51_acc: 0.9136 - val_dense_52_acc: 0.9023 - val_dense_53_acc: 0.8251\n",
      "Epoch 19/25\n",
      "188/188 [==============================] - 23s 121ms/step - loss: 1.8977 - dense_36_loss: 0.0526 - dense_37_loss: 0.1458 - dense_38_loss: 0.0724 - dense_39_loss: 0.0609 - dense_40_loss: 0.1701 - dense_41_loss: 0.1222 - dense_42_loss: 0.1278 - dense_43_loss: 0.0495 - dense_44_loss: 0.1126 - dense_45_loss: 0.0641 - dense_46_loss: 0.0957 - dense_47_loss: 0.1474 - dense_48_loss: 0.1265 - dense_49_loss: 0.1407 - dense_50_loss: 0.0915 - dense_51_loss: 0.1037 - dense_52_loss: 0.0589 - dense_53_loss: 0.1554 - dense_36_acc: 0.9835 - dense_37_acc: 0.9515 - dense_38_acc: 0.9751 - dense_39_acc: 0.9834 - dense_40_acc: 0.9360 - dense_41_acc: 0.9619 - dense_42_acc: 0.9525 - dense_43_acc: 0.9827 - dense_44_acc: 0.9688 - dense_45_acc: 0.9786 - dense_46_acc: 0.9691 - dense_47_acc: 0.9490 - dense_48_acc: 0.9551 - dense_49_acc: 0.9455 - dense_50_acc: 0.9688 - dense_51_acc: 0.9624 - dense_52_acc: 0.9772 - dense_53_acc: 0.9400 - val_loss: 8.6130 - val_dense_36_loss: 0.0835 - val_dense_37_loss: 0.5787 - val_dense_38_loss: 0.4724 - val_dense_39_loss: 0.0706 - val_dense_40_loss: 0.3362 - val_dense_41_loss: 1.3107 - val_dense_42_loss: 0.3056 - val_dense_43_loss: 0.1659 - val_dense_44_loss: 0.1560 - val_dense_45_loss: 0.3152 - val_dense_46_loss: 0.9520 - val_dense_47_loss: 1.1685 - val_dense_48_loss: 0.4889 - val_dense_49_loss: 0.3786 - val_dense_50_loss: 0.6339 - val_dense_51_loss: 0.2886 - val_dense_52_loss: 0.4417 - val_dense_53_loss: 0.4660 - val_dense_36_acc: 0.9874 - val_dense_37_acc: 0.8105 - val_dense_38_acc: 0.8684 - val_dense_39_acc: 0.9867 - val_dense_40_acc: 0.8690 - val_dense_41_acc: 0.6350 - val_dense_42_acc: 0.8943 - val_dense_43_acc: 0.9614 - val_dense_44_acc: 0.9634 - val_dense_45_acc: 0.9229 - val_dense_46_acc: 0.7699 - val_dense_47_acc: 0.6423 - val_dense_48_acc: 0.8351 - val_dense_49_acc: 0.8976 - val_dense_50_acc: 0.8019 - val_dense_51_acc: 0.9162 - val_dense_52_acc: 0.8996 - val_dense_53_acc: 0.8158\n",
      "Epoch 20/25\n",
      "188/188 [==============================] - 22s 115ms/step - loss: 1.7607 - dense_36_loss: 0.0477 - dense_37_loss: 0.1305 - dense_38_loss: 0.0658 - dense_39_loss: 0.0596 - dense_40_loss: 0.1531 - dense_41_loss: 0.1107 - dense_42_loss: 0.1197 - dense_43_loss: 0.0426 - dense_44_loss: 0.1111 - dense_45_loss: 0.0597 - dense_46_loss: 0.0883 - dense_47_loss: 0.1423 - dense_48_loss: 0.1144 - dense_49_loss: 0.1294 - dense_50_loss: 0.0854 - dense_51_loss: 0.1001 - dense_52_loss: 0.0570 - dense_53_loss: 0.1434 - dense_36_acc: 0.9842 - dense_37_acc: 0.9599 - dense_38_acc: 0.9771 - dense_39_acc: 0.9837 - dense_40_acc: 0.9418 - dense_41_acc: 0.9633 - dense_42_acc: 0.9579 - dense_43_acc: 0.9852 - dense_44_acc: 0.9688 - dense_45_acc: 0.9822 - dense_46_acc: 0.9709 - dense_47_acc: 0.9521 - dense_48_acc: 0.9598 - dense_49_acc: 0.9535 - dense_50_acc: 0.9719 - dense_51_acc: 0.9646 - dense_52_acc: 0.9807 - dense_53_acc: 0.9438 - val_loss: 8.9008 - val_dense_36_loss: 0.0942 - val_dense_37_loss: 0.6137 - val_dense_38_loss: 0.4894 - val_dense_39_loss: 0.0702 - val_dense_40_loss: 0.3499 - val_dense_41_loss: 1.3758 - val_dense_42_loss: 0.3195 - val_dense_43_loss: 0.1587 - val_dense_44_loss: 0.1591 - val_dense_45_loss: 0.3193 - val_dense_46_loss: 0.9805 - val_dense_47_loss: 1.1773 - val_dense_48_loss: 0.5027 - val_dense_49_loss: 0.4052 - val_dense_50_loss: 0.6621 - val_dense_51_loss: 0.2980 - val_dense_52_loss: 0.4337 - val_dense_53_loss: 0.4915 - val_dense_36_acc: 0.9874 - val_dense_37_acc: 0.8198 - val_dense_38_acc: 0.8703 - val_dense_39_acc: 0.9867 - val_dense_40_acc: 0.8757 - val_dense_41_acc: 0.6184 - val_dense_42_acc: 0.8890 - val_dense_43_acc: 0.9581 - val_dense_44_acc: 0.9634 - val_dense_45_acc: 0.9116 - val_dense_46_acc: 0.7593 - val_dense_47_acc: 0.6536 - val_dense_48_acc: 0.8338 - val_dense_49_acc: 0.8963 - val_dense_50_acc: 0.7926 - val_dense_51_acc: 0.9176 - val_dense_52_acc: 0.9016 - val_dense_53_acc: 0.8278\n",
      "Epoch 21/25\n",
      "188/188 [==============================] - 21s 113ms/step - loss: 1.6583 - dense_36_loss: 0.0466 - dense_37_loss: 0.1181 - dense_38_loss: 0.0639 - dense_39_loss: 0.0590 - dense_40_loss: 0.1445 - dense_41_loss: 0.1008 - dense_42_loss: 0.1130 - dense_43_loss: 0.0405 - dense_44_loss: 0.1102 - dense_45_loss: 0.0517 - dense_46_loss: 0.0825 - dense_47_loss: 0.1311 - dense_48_loss: 0.1072 - dense_49_loss: 0.1199 - dense_50_loss: 0.0791 - dense_51_loss: 0.1004 - dense_52_loss: 0.0550 - dense_53_loss: 0.1348 - dense_36_acc: 0.9847 - dense_37_acc: 0.9641 - dense_38_acc: 0.9782 - dense_39_acc: 0.9834 - dense_40_acc: 0.9437 - dense_41_acc: 0.9668 - dense_42_acc: 0.9586 - dense_43_acc: 0.9860 - dense_44_acc: 0.9688 - dense_45_acc: 0.9844 - dense_46_acc: 0.9729 - dense_47_acc: 0.9535 - dense_48_acc: 0.9626 - dense_49_acc: 0.9560 - dense_50_acc: 0.9749 - dense_51_acc: 0.9653 - dense_52_acc: 0.9817 - dense_53_acc: 0.9488 - val_loss: 9.2062 - val_dense_36_loss: 0.0823 - val_dense_37_loss: 0.6451 - val_dense_38_loss: 0.5149 - val_dense_39_loss: 0.0716 - val_dense_40_loss: 0.3666 - val_dense_41_loss: 1.4216 - val_dense_42_loss: 0.3151 - val_dense_43_loss: 0.1742 - val_dense_44_loss: 0.1557 - val_dense_45_loss: 0.3406 - val_dense_46_loss: 1.0532 - val_dense_47_loss: 1.2587 - val_dense_48_loss: 0.5377 - val_dense_49_loss: 0.4089 - val_dense_50_loss: 0.6636 - val_dense_51_loss: 0.2797 - val_dense_52_loss: 0.4272 - val_dense_53_loss: 0.4896 - val_dense_36_acc: 0.9874 - val_dense_37_acc: 0.8045 - val_dense_38_acc: 0.8630 - val_dense_39_acc: 0.9867 - val_dense_40_acc: 0.8531 - val_dense_41_acc: 0.6223 - val_dense_42_acc: 0.8923 - val_dense_43_acc: 0.9568 - val_dense_44_acc: 0.9634 - val_dense_45_acc: 0.9202 - val_dense_46_acc: 0.7606 - val_dense_47_acc: 0.6410 - val_dense_48_acc: 0.8391 - val_dense_49_acc: 0.8976 - val_dense_50_acc: 0.8098 - val_dense_51_acc: 0.9136 - val_dense_52_acc: 0.8930 - val_dense_53_acc: 0.8305\n",
      "Epoch 22/25\n",
      "188/188 [==============================] - 21s 114ms/step - loss: 1.5856 - dense_36_loss: 0.0432 - dense_37_loss: 0.1082 - dense_38_loss: 0.0612 - dense_39_loss: 0.0573 - dense_40_loss: 0.1342 - dense_41_loss: 0.1012 - dense_42_loss: 0.1090 - dense_43_loss: 0.0374 - dense_44_loss: 0.1093 - dense_45_loss: 0.0477 - dense_46_loss: 0.0827 - dense_47_loss: 0.1218 - dense_48_loss: 0.1002 - dense_49_loss: 0.1167 - dense_50_loss: 0.0766 - dense_51_loss: 0.0984 - dense_52_loss: 0.0547 - dense_53_loss: 0.1257 - dense_36_acc: 0.9857 - dense_37_acc: 0.9678 - dense_38_acc: 0.9781 - dense_39_acc: 0.9837 - dense_40_acc: 0.9476 - dense_41_acc: 0.9668 - dense_42_acc: 0.9629 - dense_43_acc: 0.9894 - dense_44_acc: 0.9688 - dense_45_acc: 0.9849 - dense_46_acc: 0.9711 - dense_47_acc: 0.9589 - dense_48_acc: 0.9641 - dense_49_acc: 0.9573 - dense_50_acc: 0.9754 - dense_51_acc: 0.9638 - dense_52_acc: 0.9811 - dense_53_acc: 0.9540 - val_loss: 9.4005 - val_dense_36_loss: 0.0813 - val_dense_37_loss: 0.6449 - val_dense_38_loss: 0.5180 - val_dense_39_loss: 0.0706 - val_dense_40_loss: 0.3620 - val_dense_41_loss: 1.4543 - val_dense_42_loss: 0.3286 - val_dense_43_loss: 0.1715 - val_dense_44_loss: 0.1553 - val_dense_45_loss: 0.3475 - val_dense_46_loss: 1.0566 - val_dense_47_loss: 1.3076 - val_dense_48_loss: 0.5287 - val_dense_49_loss: 0.4214 - val_dense_50_loss: 0.6902 - val_dense_51_loss: 0.2898 - val_dense_52_loss: 0.4611 - val_dense_53_loss: 0.5111 - val_dense_36_acc: 0.9860 - val_dense_37_acc: 0.8065 - val_dense_38_acc: 0.8644 - val_dense_39_acc: 0.9867 - val_dense_40_acc: 0.8670 - val_dense_41_acc: 0.6170 - val_dense_42_acc: 0.8883 - val_dense_43_acc: 0.9608 - val_dense_44_acc: 0.9634 - val_dense_45_acc: 0.9176 - val_dense_46_acc: 0.7600 - val_dense_47_acc: 0.6596 - val_dense_48_acc: 0.8318 - val_dense_49_acc: 0.8943 - val_dense_50_acc: 0.7912 - val_dense_51_acc: 0.9162 - val_dense_52_acc: 0.8976 - val_dense_53_acc: 0.8298\n",
      "Epoch 23/25\n",
      "188/188 [==============================] - 21s 114ms/step - loss: 1.4863 - dense_36_loss: 0.0413 - dense_37_loss: 0.0959 - dense_38_loss: 0.0575 - dense_39_loss: 0.0559 - dense_40_loss: 0.1277 - dense_41_loss: 0.0916 - dense_42_loss: 0.1008 - dense_43_loss: 0.0365 - dense_44_loss: 0.1074 - dense_45_loss: 0.0442 - dense_46_loss: 0.0787 - dense_47_loss: 0.1165 - dense_48_loss: 0.0913 - dense_49_loss: 0.1068 - dense_50_loss: 0.0707 - dense_51_loss: 0.0950 - dense_52_loss: 0.0489 - dense_53_loss: 0.1196 - dense_36_acc: 0.9875 - dense_37_acc: 0.9717 - dense_38_acc: 0.9802 - dense_39_acc: 0.9835 - dense_40_acc: 0.9486 - dense_41_acc: 0.9716 - dense_42_acc: 0.9664 - dense_43_acc: 0.9880 - dense_44_acc: 0.9688 - dense_45_acc: 0.9869 - dense_46_acc: 0.9734 - dense_47_acc: 0.9608 - dense_48_acc: 0.9737 - dense_49_acc: 0.9631 - dense_50_acc: 0.9786 - dense_51_acc: 0.9663 - dense_52_acc: 0.9820 - dense_53_acc: 0.9568 - val_loss: 9.5995 - val_dense_36_loss: 0.0806 - val_dense_37_loss: 0.6703 - val_dense_38_loss: 0.5335 - val_dense_39_loss: 0.0740 - val_dense_40_loss: 0.3668 - val_dense_41_loss: 1.4869 - val_dense_42_loss: 0.3379 - val_dense_43_loss: 0.1819 - val_dense_44_loss: 0.1565 - val_dense_45_loss: 0.3537 - val_dense_46_loss: 1.0741 - val_dense_47_loss: 1.2915 - val_dense_48_loss: 0.5732 - val_dense_49_loss: 0.4204 - val_dense_50_loss: 0.7407 - val_dense_51_loss: 0.2811 - val_dense_52_loss: 0.4445 - val_dense_53_loss: 0.5320 - val_dense_36_acc: 0.9880 - val_dense_37_acc: 0.8118 - val_dense_38_acc: 0.8597 - val_dense_39_acc: 0.9867 - val_dense_40_acc: 0.8551 - val_dense_41_acc: 0.6197 - val_dense_42_acc: 0.8836 - val_dense_43_acc: 0.9581 - val_dense_44_acc: 0.9634 - val_dense_45_acc: 0.9282 - val_dense_46_acc: 0.7660 - val_dense_47_acc: 0.6436 - val_dense_48_acc: 0.8364 - val_dense_49_acc: 0.8930 - val_dense_50_acc: 0.8092 - val_dense_51_acc: 0.9142 - val_dense_52_acc: 0.8943 - val_dense_53_acc: 0.8185\n",
      "Epoch 24/25\n",
      "188/188 [==============================] - 22s 117ms/step - loss: 1.3652 - dense_36_loss: 0.0357 - dense_37_loss: 0.0827 - dense_38_loss: 0.0518 - dense_39_loss: 0.0546 - dense_40_loss: 0.1159 - dense_41_loss: 0.0815 - dense_42_loss: 0.0956 - dense_43_loss: 0.0316 - dense_44_loss: 0.1064 - dense_45_loss: 0.0358 - dense_46_loss: 0.0698 - dense_47_loss: 0.1087 - dense_48_loss: 0.0840 - dense_49_loss: 0.0967 - dense_50_loss: 0.0677 - dense_51_loss: 0.0945 - dense_52_loss: 0.0461 - dense_53_loss: 0.1061 - dense_36_acc: 0.9892 - dense_37_acc: 0.9764 - dense_38_acc: 0.9829 - dense_39_acc: 0.9840 - dense_40_acc: 0.9563 - dense_41_acc: 0.9749 - dense_42_acc: 0.9674 - dense_43_acc: 0.9899 - dense_44_acc: 0.9688 - dense_45_acc: 0.9885 - dense_46_acc: 0.9757 - dense_47_acc: 0.9633 - dense_48_acc: 0.9741 - dense_49_acc: 0.9691 - dense_50_acc: 0.9791 - dense_51_acc: 0.9668 - dense_52_acc: 0.9844 - dense_53_acc: 0.9629 - val_loss: 10.0745 - val_dense_36_loss: 0.0959 - val_dense_37_loss: 0.7144 - val_dense_38_loss: 0.5918 - val_dense_39_loss: 0.0736 - val_dense_40_loss: 0.3916 - val_dense_41_loss: 1.5350 - val_dense_42_loss: 0.3491 - val_dense_43_loss: 0.1743 - val_dense_44_loss: 0.1598 - val_dense_45_loss: 0.3632 - val_dense_46_loss: 1.1300 - val_dense_47_loss: 1.3795 - val_dense_48_loss: 0.5575 - val_dense_49_loss: 0.4722 - val_dense_50_loss: 0.7723 - val_dense_51_loss: 0.2795 - val_dense_52_loss: 0.4641 - val_dense_53_loss: 0.5708 - val_dense_36_acc: 0.9834 - val_dense_37_acc: 0.8138 - val_dense_38_acc: 0.8717 - val_dense_39_acc: 0.9867 - val_dense_40_acc: 0.8697 - val_dense_41_acc: 0.6177 - val_dense_42_acc: 0.8890 - val_dense_43_acc: 0.9588 - val_dense_44_acc: 0.9634 - val_dense_45_acc: 0.9062 - val_dense_46_acc: 0.7660 - val_dense_47_acc: 0.6589 - val_dense_48_acc: 0.8285 - val_dense_49_acc: 0.8976 - val_dense_50_acc: 0.7899 - val_dense_51_acc: 0.9182 - val_dense_52_acc: 0.8850 - val_dense_53_acc: 0.8078\n",
      "Epoch 25/25\n",
      "188/188 [==============================] - 27s 142ms/step - loss: 1.2818 - dense_36_loss: 0.0356 - dense_37_loss: 0.0765 - dense_38_loss: 0.0473 - dense_39_loss: 0.0528 - dense_40_loss: 0.1084 - dense_41_loss: 0.0776 - dense_42_loss: 0.0904 - dense_43_loss: 0.0318 - dense_44_loss: 0.1035 - dense_45_loss: 0.0327 - dense_46_loss: 0.0634 - dense_47_loss: 0.1001 - dense_48_loss: 0.0772 - dense_49_loss: 0.0889 - dense_50_loss: 0.0601 - dense_51_loss: 0.0896 - dense_52_loss: 0.0450 - dense_53_loss: 0.1008 - dense_36_acc: 0.9887 - dense_37_acc: 0.9769 - dense_38_acc: 0.9837 - dense_39_acc: 0.9842 - dense_40_acc: 0.9613 - dense_41_acc: 0.9756 - dense_42_acc: 0.9671 - dense_43_acc: 0.9902 - dense_44_acc: 0.9688 - dense_45_acc: 0.9900 - dense_46_acc: 0.9789 - dense_47_acc: 0.9673 - dense_48_acc: 0.9767 - dense_49_acc: 0.9691 - dense_50_acc: 0.9814 - dense_51_acc: 0.9704 - dense_52_acc: 0.9844 - dense_53_acc: 0.9639 - val_loss: 10.2661 - val_dense_36_loss: 0.0915 - val_dense_37_loss: 0.7416 - val_dense_38_loss: 0.6016 - val_dense_39_loss: 0.0756 - val_dense_40_loss: 0.3909 - val_dense_41_loss: 1.6170 - val_dense_42_loss: 0.3692 - val_dense_43_loss: 0.1815 - val_dense_44_loss: 0.1612 - val_dense_45_loss: 0.3926 - val_dense_46_loss: 1.0738 - val_dense_47_loss: 1.3653 - val_dense_48_loss: 0.5925 - val_dense_49_loss: 0.4610 - val_dense_50_loss: 0.7770 - val_dense_51_loss: 0.3035 - val_dense_52_loss: 0.4944 - val_dense_53_loss: 0.5757 - val_dense_36_acc: 0.9814 - val_dense_37_acc: 0.8105 - val_dense_38_acc: 0.8610 - val_dense_39_acc: 0.9867 - val_dense_40_acc: 0.8670 - val_dense_41_acc: 0.6297 - val_dense_42_acc: 0.8717 - val_dense_43_acc: 0.9574 - val_dense_44_acc: 0.9634 - val_dense_45_acc: 0.9029 - val_dense_46_acc: 0.7633 - val_dense_47_acc: 0.6469 - val_dense_48_acc: 0.8391 - val_dense_49_acc: 0.9016 - val_dense_50_acc: 0.7952 - val_dense_51_acc: 0.9142 - val_dense_52_acc: 0.8896 - val_dense_53_acc: 0.8185\n"
     ]
    }
   ],
   "source": [
    "history =model.fit(x=x_train, y=[y1_train, y2_train, y3_train, y4_train, y5_train, y6_train,y7_train,y8_train,y9_train,y10_train,y11_train,y12_train,y13_train,y14_train,y15_train, y16_train,y17_train,y18_train], batch_size=32, epochs=25, verbose=1, validation_split=0.2)"
   ]
  },
  {
   "cell_type": "code",
   "execution_count": 52,
   "metadata": {},
   "outputs": [
    {
     "name": "stdout",
     "output_type": "stream",
     "text": [
      "59/59 [==============================] - 4s 33ms/step - loss: 10.3206 - dense_36_loss: 0.1140 - dense_37_loss: 0.7812 - dense_38_loss: 0.5274 - dense_39_loss: 0.0783 - dense_40_loss: 0.4159 - dense_41_loss: 1.6653 - dense_42_loss: 0.4231 - dense_43_loss: 0.1739 - dense_44_loss: 0.1477 - dense_45_loss: 0.3165 - dense_46_loss: 1.1225 - dense_47_loss: 1.3075 - dense_48_loss: 0.5583 - dense_49_loss: 0.4574 - dense_50_loss: 0.7920 - dense_51_loss: 0.3687 - dense_52_loss: 0.5103 - dense_53_loss: 0.5605 - dense_36_acc: 0.9782 - dense_37_acc: 0.8005 - dense_38_acc: 0.8755 - dense_39_acc: 0.9867 - dense_40_acc: 0.8723 - dense_41_acc: 0.6096 - dense_42_acc: 0.8660 - dense_43_acc: 0.9553 - dense_44_acc: 0.9665 - dense_45_acc: 0.9218 - dense_46_acc: 0.7543 - dense_47_acc: 0.6527 - dense_48_acc: 0.8457 - dense_49_acc: 0.8979 - dense_50_acc: 0.7846 - dense_51_acc: 0.8984 - dense_52_acc: 0.8899 - dense_53_acc: 0.8191\n",
      "test score 10.320595741271973\n",
      "test accuracy 0.11400020867586136\n"
     ]
    }
   ],
   "source": [
    "score= model.evaluate(x=x_test,y=[y1_test, y2_test, y3_test, y4_test, y5_test, y6_test,y7_test,y8_test,y9_test,y10_test,y11_test,y12_test,y13_test,y14_test,y15_test,y16_test,y17_test,y18_test],verbose=1)\n",
    "print(\"test score\",score[0])\n",
    "print(\"test accuracy\",score[1])"
   ]
  }
 ],
 "metadata": {
  "kernelspec": {
   "display_name": "Python 3",
   "language": "python",
   "name": "python3"
  },
  "language_info": {
   "codemirror_mode": {
    "name": "ipython",
    "version": 3
   },
   "file_extension": ".py",
   "mimetype": "text/x-python",
   "name": "python",
   "nbconvert_exporter": "python",
   "pygments_lexer": "ipython3",
   "version": "3.11.5"
  },
  "orig_nbformat": 4
 },
 "nbformat": 4,
 "nbformat_minor": 2
}
